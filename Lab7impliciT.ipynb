{
  "cells": [
    {
      "cell_type": "markdown",
      "metadata": {
        "id": "N-B2N0ekqe3n"
      },
      "source": [
        "## How to use this notebook\n",
        "Any Jupyter Notebook (JN) is made of \"text\" (Markdown) and \"code\" cells. Code cells must be executed to see the result of the program. To run a cell, select it and press Shift + Enter. Pressing Shift + Enter multiple times will execute consecutive blocks of code one after another, while skipping text cells (executing them does nothing). It is important to run the code cells in the order they appear in the notebook.\n",
        "\n",
        "A complete version of this JN is available by request to instructors using the book \"Exploring mathematics with CAS assistance\" for teaching. This version has blank or partially blank code lines that are supposed to be completed by the user before running the code.\n",
        "\n",
        "Code cells contain (nonexecutable) comments preceded by the pound sign. The comments are of two types:\n",
        "- a short comment placed on a code line typically states what the result of implementation of the encoded operation is\n",
        "- a comment placed on a separate line either names the result of the next block of code lines or provides some details only for the next line where a more involved operation is encoded\n",
        "\n",
        "The code is written by Lydia Novozhilova. Senan Hayes contributed to writing text cells and proofreading, editing, and fruitful discussion of this document.\n",
        "\n"
      ]
    },
    {
      "cell_type": "markdown",
      "metadata": {
        "id": "7lkZiJ5Rq3HT"
      },
      "source": [
        "# Lab7: Implicitization of plane rational curves\n",
        "\n",
        "## Problem formulation\n",
        "Make a function that takes a rational parametric equations of an ellipse or hyperbola with two unspecified parameters and does the following:\n",
        "\n",
        "- Finds the implicit equation of the curve and identifies the conic type\n",
        "- Gets a pair of parameters that define a degenerate conic and returns its implicit equation\n",
        "- Gets a pair of parameters that define a nondegenerate conic and plots it\n",
        "\n",
        "For information related to the general equation of conics read Section 3.3.\n",
        "\n",
        "The *resultant method* for solving system of polynomial equations used in this lab is not covered in typical undegraduate program for mathematics students. For information related to using the method in this lab read Sections 6.3.1-6.3.4. For more details on the lab refer to Section 6.4."
      ]
    },
    {
      "cell_type": "markdown",
      "metadata": {
        "id": "dygQmRCGgBUa"
      },
      "source": [
        "## Brief description of this JN contents\n",
        "\n",
        "**Special features:**\n",
        "- For computer implementation of the lab in this JN, the given rational parametric equations of a curve should be manually converted into  polynomial equations $f(t)=0,\\,g(t)=0.$ The coefficients of the two polynomials depend on $x,\\,y,$ and two unspecified parameters $a,\\,b.$\n",
        "- This lab implementation includes interaction with the user during execution of the main function.\n",
        "### Help functions\n",
        "- help function **get_data** returns lists of coefficients of $f,\\,g.$ The lists should be encoded by the user on command lines that start with *fcoef* and *gcoef*.\n",
        "- help function **syl_matrix** constructs the Sylvester matrix from two lists of coefficints *fcoef, gcoef*. Manual implementation of this construction for two second degree polynomians is detailed in the book and furnished there with examples. The code uses \"black box\" built-in sympy function **subresultants_qq_zz**. Interested user can find information on this function in Python documentation.\n",
        "- help function **find_impli_eq** returns the lhs of the implicit equation of the conic with unspecified parameters $a,\\,b$ and its symbolic discriminant.\n",
        "\n",
        "The main function **plot_conic** calls **find_impli_eq** and prints the symbolic discriminant of the curve involving parameters $a,\\,b.$ Then the user is asked to input specific values of these parameters. After receiving the user's input, the function prints the implicit equation of the curve and determines if the conic is degenerate or not. For a nondegenerate case, the function renders a graph of the conic. For a degenerate case, it sugests the user to simplify and plot the equation."
      ]
    },
    {
      "cell_type": "code",
      "execution_count": null,
      "metadata": {
        "id": "CRa80iTts1if"
      },
      "outputs": [],
      "source": [
        "from sympy import *\n",
        "\n",
        "def get_data():\n",
        "  \"\"\"\n",
        "  Output:\n",
        "  given by the user lists of coefficients of polynomials f,g in variable\n",
        "  t in parametric curve equation of the form f(t)=0, g(t)=0.\n",
        "  The coefficients depend on x,y and parameters a,b.\n",
        "  \"\"\"\n",
        "  a,b,x,y,t = symbols('a b x y t')\n",
        "  # encode lists of polynomials coefficients (highest power first)\n",
        "  fcoef =[?,?,?]\n",
        "  gcoef = [?,?,?]\n",
        "  return fcoef,gcoef\n",
        "\n"
      ]
    },
    {
      "cell_type": "code",
      "execution_count": null,
      "metadata": {
        "id": "YakTtZ4Cr7mN"
      },
      "outputs": [],
      "source": [
        "# Example\n",
        "get_data()\n",
        "\n"
      ]
    },
    {
      "cell_type": "code",
      "execution_count": null,
      "metadata": {
        "id": "ATFbl7YTCFUY"
      },
      "outputs": [],
      "source": [
        "# Sylvester matrix\n",
        "\n",
        "from sympy.polys import subresultants_qq_zz\n",
        "def syl_matrix():\n",
        "  \"\"\"\n",
        "  Output:\n",
        "    Sylvester matrix constructed from the output of function det_data()\n",
        "  \"\"\"\n",
        "  a,b,x,y,t = symbols('a,b,x,y,t')\n",
        "  A,B = get_data()\n",
        "  # Making polynomials from coefficients lists\n",
        "  Apoly=Poly.from_list(A, gens=t)\n",
        "  Gpoly=Poly.from_list(?, ?) # fill in the blanks\n",
        "  # Sylvester matrix\n",
        "  syl_matrix=subresultants_qq_zz.sylvester(Apoly, Gpoly, t)\n",
        "\n",
        "  return syl_matrix\n"
      ]
    },
    {
      "cell_type": "code",
      "execution_count": null,
      "metadata": {
        "id": "uU6a-FvlD66o"
      },
      "outputs": [],
      "source": [
        "# Example\n",
        "syl_matrix()"
      ]
    },
    {
      "cell_type": "code",
      "execution_count": null,
      "metadata": {
        "id": "wAhJ2hZVwMvW"
      },
      "outputs": [],
      "source": [
        "# Implicit equation of a curve and its discriminant\n",
        "\n",
        "def find_impli_eq():\n",
        "  \"\"\"\n",
        "  Output:\n",
        "    discriminant of the general equation of curve and\n",
        "    lhs of the equation\n",
        "  \"\"\"\n",
        "  x,y,a,b = symbols('x y a b')\n",
        "  elim_t = syl_matrix()\n",
        "  # determinant of the Sylvester matrix is the lhs of implicit curve equation\n",
        "  expr = elim_t.det()\n",
        "  # encode missing coefficients of the second order terms\n",
        "  A,B,C = [expr.coeff(x**2),expr.coeff(?),expr.coeff(?)]\n",
        "  # complete encoding of the conic discriminant\n",
        "  discr = factor(expand(?**2 - 4*?*C)) # discriminant of the conic\n",
        "  return list([discr,expr])\n",
        "\n"
      ]
    },
    {
      "cell_type": "code",
      "execution_count": null,
      "metadata": {
        "id": "upCANjHlz4Oa"
      },
      "outputs": [],
      "source": [
        "# Example\n",
        "\n",
        "find_impli_eq()[0] #discriminant; find_impli_eq()[1] returns the lhs of implicit curve eq\n"
      ]
    },
    {
      "cell_type": "code",
      "execution_count": null,
      "metadata": {
        "id": "sXnsSec12_lg"
      },
      "outputs": [],
      "source": [
        "# Main function. When asked, the user should input values of parameters a and b\n",
        "\n",
        "def plot_conic():\n",
        "  x,y,a,b = symbols(\"x y a b\")\n",
        "  # discriminant and lhs of implicit equation of conic\n",
        "  discr,expr = find_impli_eq()\n",
        "  print('Symbolic discriminant: ',discr)\n",
        "  # equation of conic\n",
        "  aval = input(\"Please input value of a: \")\n",
        "  bval = input(\"Please input value of b: \")\n",
        "  eq_lhs = expr.subs([(a,aval),?]) # encode substitution of bval\n",
        "  print('Equation of conic: ',eq_lhs,'= 0')\n",
        "\n",
        "  # conditional plotting\n",
        "  discr_val = discr.subs([?,?]) # encode substitution of parameters in discriminant\n",
        "  print('Discriminant value:',discr_val.evalf(3))\n",
        "  if discr_val != ?: # fill in the gap for case of nondegenerate conic\n",
        "    ttl = input(\"Please enter the title (no quotes):\")\n",
        "    # plot with equal ranges of variables\n",
        "    plot_implicit(Eq(eq_lhs,0),(x,-2,2),(y,-2,2),points=1000,size=(4,3),title=ttl)\n",
        "  else:\n",
        "    print(\"This is a degenerate conic. Simplify the equation and plot it.\")\n",
        "\n"
      ]
    },
    {
      "cell_type": "code",
      "execution_count": null,
      "metadata": {
        "colab": {
          "base_uri": "https://localhost:8080/",
          "height": 411
        },
        "id": "4z_VIJZJTflC",
        "outputId": "cd6d5a7d-f6ca-426b-8ecc-7c7b3fb996c4"
      },
      "outputs": [
        {
          "name": "stdout",
          "output_type": "stream",
          "text": [
            "Symbolic discriminant:  -3*(a - b + 1)**2\n",
            "Please input value of a: 0.5\n",
            "Please input value of b: 1\n",
            "Equation of conic:  x**2 - 2.5*x*y + 1.5*x + 1.75*y**2 - 2.0*y + 0.5 = 0\n",
            "Discriminant value: -0.7500\n",
            "Please enter the title (no quotes):Ellipse\n"
          ]
        },
        {
          "data": {
            "image/png": "[encoded data removed]",
            "text/plain": [
              "<Figure size 400x300 with 1 Axes>"
            ]
          },
          "metadata": {},
          "output_type": "display_data"
        }
      ],
      "source": [
        "# Example: Nondegenerate case with equal ranges of variables in the plot\n",
        "# plot_conic()"
      ]
    },
    {
      "cell_type": "code",
      "execution_count": null,
      "metadata": {
        "id": "apVhyBNOKN63"
      },
      "outputs": [],
      "source": [
        "#Same example with adjusted ranges of variables (optional exploration)\n",
        "\n",
        "def plot_conic1():\n",
        "  x,y,a,b = symbols('x y a,b')\n",
        "  discr,expr = find_impli_eq()\n",
        "  print('Discriminant of the curve: ',discr)\n",
        "  aval = input(\"Please input value of a: \")\n",
        "  bval = input(\"Please input value of b: \")\n",
        "  expr_val = expr.subs([(a,?),(b,?)])\n",
        "  print('Equation of conic: ',?,'= 0')\n",
        "  # x,y ranges are chosen for the same a, b used in the plot above this cell\n",
        "  plot_implicit(Eq(eq,0),(x,-1.3,0.6),(y,-0.4,1.1),points=1000,size=(3,2),title='Conic')"
      ]
    },
    {
      "cell_type": "code",
      "execution_count": null,
      "metadata": {
        "colab": {
          "base_uri": "https://localhost:8080/",
          "height": 278
        },
        "id": "XnvYSoltTQJN",
        "outputId": "bf879644-d855-45d7-a5e7-b18054cf4ffe"
      },
      "outputs": [
        {
          "name": "stdout",
          "output_type": "stream",
          "text": [
            "Discriminant of the curve:  -3*(a - b + 1)**2\n",
            "Please input value of a: 0.5\n",
            "Please input value of b: 1\n",
            "Equation of conic:  x**2 - 2.5*x*y + 1.5*x + 1.75*y**2 - 2.0*y + 0.5 = 0\n"
          ]
        },
        {
          "data": {
            "image/png": "[encoded data removed]",
            "text/plain": [
              "<Figure size 300x200 with 1 Axes>"
            ]
          },
          "metadata": {},
          "output_type": "display_data"
        }
      ],
      "source": [
        "# Example\n",
        "plot_conic1()"
      ]
    },
    {
      "cell_type": "code",
      "execution_count": null,
      "metadata": {
        "colab": {
          "base_uri": "https://localhost:8080/"
        },
        "id": "DOuSCmO5TV2v",
        "outputId": "32c418ff-da09-472a-a1bd-469328f48ab4"
      },
      "outputs": [
        {
          "name": "stdout",
          "output_type": "stream",
          "text": [
            "Symbolic discriminant:  -3*(a - b + 1)**2\n",
            "Please input value of a: 1\n",
            "Please input value of b: 2\n",
            "Equation of conic:  3*x**2 - 6*x*y + 6*x + 3*y**2 - 6*y + 3 = 0\n",
            "Discriminant value: 0\n",
            "This is a degenerate conic. Simplify the equation and plot it.\n"
          ]
        }
      ],
      "source": [
        "# Example: Degenerate case. Left-hand side of the equation can be factored. The\n",
        "# result shows that the equation defines a line.\n",
        "plot_conic()"
      ]
    }
  ],
  "metadata": {
    "colab": {
      "provenance": []
    },
    "kernelspec": {
      "display_name": "Python 3 (ipykernel)",
      "language": "python",
      "name": "python3"
    },
    "language_info": {
      "codemirror_mode": {
        "name": "ipython",
        "version": 3
      },
      "file_extension": ".py",
      "mimetype": "text/x-python",
      "name": "python",
      "nbconvert_exporter": "python",
      "pygments_lexer": "ipython3",
      "version": "3.10.9"
    }
  },
  "nbformat": 4,
  "nbformat_minor": 0
}