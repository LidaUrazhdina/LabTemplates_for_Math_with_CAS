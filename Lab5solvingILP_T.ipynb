{
  "cells": [
    {
      "cell_type": "markdown",
      "metadata": {
        "id": "jnjmnDpBnNmN"
      },
      "source": [
        "## How to use this notebook\n",
        "Any Jupyter Notebook (JN) is made of \"text\" (Markdown) and \"code\" cells. Code cells must be executed to see the result of the program. To run a cell, select it and press Shift + Enter. Pressing Shift + Enter multiple times will execute consecutive blocks of code one after another, while skipping text cells (executing them does nothing). It is important to run the code cells in the order they appear in the notebook.\n",
        "\n",
        "A complete version of this JN is available by request to instructors using the book \"Exploring mathematics with CAS assistance\" for teaching. This version has blank or partially blank code lines that are supposed to be completed by the user before running the code.\n",
        "\n",
        "Code cells contain (nonexecutable) comments preceded by the pound sign. The comments are of two types:\n",
        "- a short comment placed on a code line typically states what the result of implementation of the encoded operation is\n",
        "- a comment placed on a separate line either names the result of the next block of code lines or provides some details only for the next line where a more involved operation is encoded\n",
        "\n",
        "The code is written by Lydia Novozhilova. Senan Hayes contributed to writing text cells and proofreading, editing, and fruitful discussion of this document.\n",
        "\n"
      ]
    },
    {
      "cell_type": "markdown",
      "metadata": {
        "id": "rhdDp1dNoTHN"
      },
      "source": [
        "# Lab 5: Industrial application of a linear Diophantine equation in three variables\n",
        "\n",
        "## Problem formulation\n",
        "An assembly is made of three types of segments: type 1 of length $l_0$, type 2 of length $l_1$,  and type 3 of length $l_2,$ where $l_0,\\,l_1,\\,l_2$ are pairwise coprime integers. Without loss of generality it is assumed  that $l_0 < l_1 < l_2.$ The total length of the assembly $L,$ an integer, is significantly larger than the length of any segment. The price of a segment of length $j$ is $p_j.$ Make a function that takes the total assembly length $L$, list of the segment lengths $T=[l_0,l_1,l_2],$ and list of the segment prices $P=[p_0,p_1,p_2]$ and returns the number of segments of each type needed to construct the assembly at minimum cost. The function should also return the minimum cost.\n",
        "\n",
        "For more information on the lab refer to Section 4.6.\n",
        "\n"
      ]
    },
    {
      "cell_type": "markdown",
      "metadata": {
        "id": "hjtFnKjZpmfd"
      },
      "source": [
        "# Brief summary of the notebook contents\n",
        "The Python library *numpy* includes very powerful functions for numerical computations. In this JN the user will see and use numpy *array objects* which allow to simplify coding of operations on the elements of lists.\n",
        "### Help functions\n",
        "-  **find_ind(T,m)** finds the indices of elements of numpy array $T$ that are equal to $m$.\n",
        "- Actions of help function **lde2_nonneg_sols** are explained by comments inside the functions code. The method for solving LDE in two variables encoded in this function is presented in Example 4.28 of the book.  \n",
        "- Actions of the help function **lde3_nonneg_sols** are explained by comments inside the functions code. Verification that the segment lengths $l_1,\\,l_2,\\,l_3$ are pairwise coprime is not included in the code of the function.\n",
        "\n",
        "The main function **solve_ILP3(l, p, L)** constructs the list of all nonnegative solutions $[x_0,x_1,x_2]$ to a Diophantine equation\n",
        "$$l_0x_0+l_1x_1+l_2x_2 = L,$$\n",
        "where\n",
        "- $x_j$ is the number of elements of type $j$  \n",
        "- $L$ is the total length of the assembly\n",
        "\n",
        "Then the main function converts the list of solutions and the given list of prices into numpy *array objects*. This conversion allows to calculate all prices -- dot products of all solutions and prices -- in just one short line of code. Finally, the cheapest assembly is selected using this list of prices for all admissible assemblies.\n",
        "\n"
      ]
    },
    {
      "cell_type": "code",
      "execution_count": null,
      "metadata": {
        "id": "lWRbH_tHDtOR"
      },
      "outputs": [],
      "source": [
        "# Help function\n",
        "from sympy import *\n",
        "import numpy as np\n",
        "\n",
        "def find_ind(Q,m):\n",
        "  \"\"\"\n",
        "  Args:\n",
        "    Q: numpy array of numbers\n",
        "    m: number\n",
        "  Output:\n",
        "    Numpy array of indices of Q elements that equal m\n",
        "  \"\"\"\n",
        "  # The function np.where works also for multidimensional arrays. According to the\n",
        "  # syntax of this function, for 1D array [0] should be appended to the function call.\n",
        "  ind = np.where(Q==m)[0]\n",
        "  return ind\n"
      ]
    },
    {
      "cell_type": "code",
      "execution_count": null,
      "metadata": {
        "colab": {
          "base_uri": "https://localhost:8080/"
        },
        "id": "tPjrl5KxL3FU",
        "outputId": "adc72197-a3e2-4e5e-faa5-c30ceae1571b"
      },
      "outputs": [
        {
          "output_type": "execute_result",
          "data": {
            "text/plain": [
              "array([0, 3])"
            ]
          },
          "metadata": {},
          "execution_count": 10
        }
      ],
      "source": [
        "# Example\n",
        "L = np.array([1.2,3.,7.,1.2,5,10])\n",
        "find_ind(L,1.2)"
      ]
    },
    {
      "cell_type": "code",
      "execution_count": null,
      "metadata": {
        "id": "-Ya4lohOLMYV"
      },
      "outputs": [],
      "source": [
        "#Help function\n",
        "\n",
        "def lde2_nonneg_sols(a,b,d):\n",
        "  \"\"\"\n",
        "  Args:\n",
        "    a,b,d, a<b: positive integers\n",
        "  Output:\n",
        "    All nonnegative solutions of LDE ax+by=d. It is assumed a<b.\n",
        "  \"\"\"\n",
        "  # conditional statement: if a and b are not coprime, the program is terminated\n",
        "  if gcd(a,b)!=?: # fill in the blank\n",
        "    print(\"a,b are not coprime\")\n",
        "    quit() # termination of the program\n",
        "\n",
        "  n=d//a+1 # number of admissible x-values\n",
        "  S=[d-a*x for x in range(n)] # admissible values for b*y\n",
        "  # remainders of integer division of S elements by b\n",
        "  rems=np.array([? % ? for s in ?]) # fill in the blanks\n",
        "\n",
        "  # positions of elements in S divisible by b\n",
        "  # Hint: If b divides S[i], that is, S[i] % b=0, then [i,S[i]//b] is a solution\n",
        "  ind = find_ind(rems,?) # insert appropriate integer\n",
        "  sols=[[i,?] for i in ind] # encode y-expression for solution with x=i\n",
        "  return(sols)"
      ]
    },
    {
      "cell_type": "code",
      "execution_count": null,
      "metadata": {
        "colab": {
          "base_uri": "https://localhost:8080/"
        },
        "id": "8ZbX9tNtPeNW",
        "outputId": "3bb190d8-df63-4ff3-e5d3-f97b94a47c6c"
      },
      "outputs": [
        {
          "output_type": "execute_result",
          "data": {
            "text/plain": [
              "[[1, 4], [6, 1]]"
            ]
          },
          "metadata": {},
          "execution_count": 12
        }
      ],
      "source": [
        "# Example\n",
        "lde2_nonneg_sols(3,5,23)\n"
      ]
    },
    {
      "cell_type": "code",
      "execution_count": null,
      "metadata": {
        "colab": {
          "base_uri": "https://localhost:8080/"
        },
        "id": "2t5tZdVCPy-k",
        "outputId": "e7f8b8aa-54d1-4110-c27e-6168967f69be"
      },
      "outputs": [
        {
          "output_type": "stream",
          "name": "stdout",
          "text": [
            "a,b are not coprime\n"
          ]
        },
        {
          "output_type": "execute_result",
          "data": {
            "text/plain": [
              "[]"
            ]
          },
          "metadata": {},
          "execution_count": 6
        }
      ],
      "source": [
        "# Example: a,b are not coprime. The execution of the program is teminated.\n",
        "# To use the JN all code cells should be re-executed\n",
        "lde2_nonneg_sols(3,12,37)"
      ]
    },
    {
      "cell_type": "code",
      "execution_count": null,
      "metadata": {
        "id": "7K212nebLeFr"
      },
      "outputs": [],
      "source": [
        "# Help function\n",
        "\n",
        "def lde3_nonneg_sols(a,b,c,L):\n",
        "  \"\"\"\n",
        "  Args:\n",
        "    a,b,c: nonnegative integers, a<b<c\n",
        "    L: positive integer\n",
        "  Output:\n",
        "    All nonnegative solutions of LDE ax+by+cz=L.\n",
        "  \"\"\"\n",
        "  n=L//c+1 # number of admissible z-values\n",
        "  sols3=[]\n",
        "  for z in range(n):\n",
        "    # admissible value for ax+by when z=k\n",
        "    d=L-c*? # fill in the blank\n",
        "    sols2=lde2_nonneg_sols(a,b,d)\n",
        "    # sublist of solutions with given z\n",
        "    temp = [[q[0],q[1],z] for q in ?] # fill in the blank\n",
        "    sols3.extend(temp)\n",
        "  return sols3"
      ]
    },
    {
      "cell_type": "code",
      "execution_count": null,
      "metadata": {
        "colab": {
          "base_uri": "https://localhost:8080/"
        },
        "id": "8J7d3jEPnLNY",
        "outputId": "250a77cd-5f08-414e-979b-e026f6acc25f"
      },
      "outputs": [
        {
          "output_type": "execute_result",
          "data": {
            "text/plain": [
              "[[1, 6, 0], [8, 3, 0], [15, 0, 0], [5, 2, 1], [2, 1, 2]]"
            ]
          },
          "metadata": {},
          "execution_count": 16
        }
      ],
      "source": [
        "#Example\n",
        "lde3_nonneg_sols(3,7,16,45)"
      ]
    },
    {
      "cell_type": "code",
      "execution_count": null,
      "metadata": {
        "id": "52i46FUZd2iz"
      },
      "outputs": [],
      "source": [
        "# Main function: Solution to the problem\n",
        "def solve_ILP3(l, p, L):\n",
        "  '''\n",
        "  Args:\n",
        "    l: list of segment lengths\n",
        "    p: list of prices for one segment of each type\n",
        "    L: total length of assembly\n",
        "  Output:\n",
        "    the cheapest solution for assembly and its cost\n",
        "    '''\n",
        "  # lde3 nonnegative solutions\n",
        "  sols=lde3_nonneg_sols(l[0],l[1],l[2],L)\n",
        "  print('Number of possible assemblies:',len(sols))\n",
        "  # conversion of prices to numpy array\n",
        "  prices=np.array(?) # fill in the blank\n",
        "  # conversion of lde3 solutions to numpy array\n",
        "  S=np.array(?) # fill in the blank\n",
        "  # array of costs of assembly for all lde solutions\n",
        "  C=[round(np.dot(prices,s),2) for s in S]\n",
        "  opti=min(C)\n",
        "  # position of optimal solution\n",
        "  pos=C.index(?) # fill in the blank\n",
        "  print('All prices:',C)\n",
        "  print('Optimal solution: x_0 =',S[pos][0],', x_1 =',S[pos][1],', x_2 =', S[pos][2], '. Cost: $',opti)\n",
        "\n"
      ]
    },
    {
      "cell_type": "code",
      "execution_count": null,
      "metadata": {
        "colab": {
          "base_uri": "https://localhost:8080/"
        },
        "id": "zgYFYRpUgtHm",
        "outputId": "ce83d62d-df88-4398-eb1a-8209429a5c2c"
      },
      "outputs": [
        {
          "name": "stdout",
          "output_type": "stream",
          "text": [
            "All prices: [33.69, 44.97, 56.25, 34.23, 23.49]\n",
            "Optimal solution: x_0 = 2 , x_1 = 1 , x_2 = 2 . Cost: $ 23.49\n"
          ]
        }
      ],
      "source": [
        "# Example\n",
        "solve_ILP3([3,7,16],[3.75,4.99,5.50],45)"
      ]
    },
    {
      "cell_type": "code",
      "execution_count": null,
      "metadata": {
        "colab": {
          "base_uri": "https://localhost:8080/"
        },
        "id": "ndKunN3gvOEY",
        "outputId": "019cafe9-3fac-4e20-cdc0-6ce63c4fe096"
      },
      "outputs": [
        {
          "output_type": "stream",
          "name": "stdout",
          "text": [
            "Number of assemblies: 57\n",
            "All prices: [91.21, 114.89, 138.57, 162.25, 185.93, 209.61, 233.29, 87.97, 111.65, 135.33, 159.01, 182.69, 206.37, 230.05, 84.73, 108.41, 132.09, 155.77, 179.45, 203.13, 81.49, 105.17, 128.85, 152.53, 176.21, 199.89, 78.25, 101.93, 125.61, 149.29, 172.97, 196.65, 98.69, 122.37, 146.05, 169.73, 95.45, 119.13, 142.81, 166.49, 92.21, 115.89, 139.57, 163.25, 88.97, 112.65, 136.33, 85.73, 109.41, 133.09, 82.49, 106.17, 129.85, 79.25, 102.93, 99.69, 96.45]\n",
            "Optimal solution: x_0 = 0 , x_1 = 15 , x_2 = 4 . Cost: $ 78.25\n"
          ]
        }
      ],
      "source": [
        "# Example:\n",
        "solve_ILP3([3,7,10],[4.99,3.75,5.50],145)"
      ]
    },
    {
      "cell_type": "code",
      "source": [],
      "metadata": {
        "id": "-rHmxEjl6Xu2"
      },
      "execution_count": null,
      "outputs": []
    }
  ],
  "metadata": {
    "colab": {
      "provenance": []
    },
    "kernelspec": {
      "display_name": "Python 3 (ipykernel)",
      "language": "python",
      "name": "python3"
    },
    "language_info": {
      "codemirror_mode": {
        "name": "ipython",
        "version": 3
      },
      "file_extension": ".py",
      "mimetype": "text/x-python",
      "name": "python",
      "nbconvert_exporter": "python",
      "pygments_lexer": "ipython3",
      "version": "3.10.9"
    }
  },
  "nbformat": 4,
  "nbformat_minor": 0
}