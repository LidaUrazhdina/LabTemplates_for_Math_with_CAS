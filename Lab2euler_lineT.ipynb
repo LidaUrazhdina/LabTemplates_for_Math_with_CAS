{
  "cells": [
    {
      "cell_type": "markdown",
      "source": [
        "## How to use this notebook\n",
        "Any Jupyter Notebook (JN) is made of \"text\" (Markdown) and \"code\" cells. Code cells must be executed to see the result of the program. To run a cell, select it and press Shift + Enter. Pressing Shift + Enter multiple times will execute consecutive blocks of code one after another, while skipping text cells (executing them does nothing). It is important to run the code cells in the order they appear in the notebook.\n",
        "\n",
        "A complete version of this JN is available by request to instructors using the book \"Exploring mathematics wth CAS assistance\" for teaching. This version has blank or partially blank code lines that are supposed to be completed by the user before running the code.\n",
        "\n",
        "Code cells contain (nonexecutable) comments preceded by the pound sign. The comments are of two types:\n",
        "- a short comment placed on a code line typically states what the result of implementation of the encoded operation\n",
        "- a comment placed on a separate line states either the result of the next block of code lines or provides some details only for the next line where a more involved operation is encoded\n",
        "\n",
        "The code is written by Lydia Novozhilova. Senan Hayes contributed to writing text cells and proofreading, editing, and fruitful discussion of this document.\n"
      ],
      "metadata": {
        "id": "bI-OAH7yW8Op"
      }
    },
    {
      "cell_type": "markdown",
      "source": [
        "# Lab 2: Euler line\n",
        "## Problem formulation\n",
        "Given three vertices of a rectangle, write a function that returns a figure with plots of the triangle, its three centers (centroid, orthocenter, and circumcenter), and the Euler line.\n",
        "\n",
        "For more details regarding the centers and the Euler line read Section 2.4. For information on the lab refer to Section 3.1.\n",
        "\n"
      ],
      "metadata": {
        "id": "GDifeYdMXFRg"
      }
    },
    {
      "cell_type": "markdown",
      "source": [
        "## Brief description of the notebook contents\n",
        "Help function **find3centers** finds the centroid, orthocenter, and circumcenter of a triangle defined by its vertices. Use of very intuitive sympy functions makes these computations very transparent.\n",
        "\n",
        "Comments included into the help function **my_polygon** explain the actions of the operators in it.\n",
        "\n",
        "The main function **my_euler** calls help functions **find3centers** and **my_polygon** when needed. To keep the codes as elementary as possible, some conventional operations, like verification of conditions on input data, as well as some aesthetic arguments for plot functions are not included."
      ],
      "metadata": {
        "id": "1D8jc1R03rf6"
      }
    },
    {
      "cell_type": "code",
      "execution_count": null,
      "metadata": {
        "id": "uNC0_NRMCTtV"
      },
      "outputs": [],
      "source": [
        "# Help function: Three centers of a triangle\n",
        "from sympy import *\n",
        "import matplotlib.pyplot as plt\n",
        "\n",
        "def find3centers(pts):\n",
        "  \"\"\"\n",
        "  Args:\n",
        "    pts: list of vertices coordinates (each element is a list of length 2)\n",
        "  Output:\n",
        "    Coordinates of the centroid, orthocenter, and circumcenter (list of lists)\n",
        "  \"\"\"\n",
        "  # Conversion of pts into sympy Point objects\n",
        "  # encode converion of the third point\n",
        "  p1,p2,p3 = Point(pts[0][0],pts[0][1]),Point(pts[1][0],pts[1][1]),?\n",
        "  L =[Line(p1,p2),Line(p1,p3)] # two sides of triangle as sympy Line objects\n",
        "\n",
        "  # Find centroid\n",
        "  # encode second midpoint\n",
        "  m = [p1.midpoint(p2),?] # midpoints of two sides\n",
        "  # encode second median\n",
        "  C = [Line(p3,m[0]),?] # two medians as sympy Line objects\n",
        "  # sympy Point object f; f[0] is list of the Point coordinates\n",
        "  f=intersection(C[0], C[1])\n",
        "  # floating-point approximation of centroid coordinates rounded to two digits\n",
        "  centroid = [f[0][0].evalf(2),f[0][1].evalf(2)]\n",
        "\n",
        "  # Find orthocenter\n",
        "  # two heights\n",
        "  H = [L[0].perpendicular_line(p3),?] # encode second height\n",
        "  h = intersection(H[0],?) # insert name of the second height\n",
        "  # floating-point approximation of orthocenter coordinates\n",
        "  orthocenter = [h[0][0].evalf(2),?] # encode approximation of second coordinate\n",
        "\n",
        "  # Find circumcenter\n",
        "  # two perpendicular bisectors\n",
        "  Q = [L[0].perpendicular_line(m[0]),?] # encode second bisector\n",
        "  q = intersection(Q[0],?) # insert name of the second bisector\n",
        "  circumcenter = [q[0][0].evalf(2),?] # encode approximation of second coordinate\n",
        "  print('centroid:',centroid,'orthocenter:',orthocenter,'circumcenter:',circumcenter)\n",
        "  return list([centroid, orthocenter, circumcenter])\n"
      ]
    },
    {
      "cell_type": "code",
      "execution_count": null,
      "metadata": {
        "colab": {
          "base_uri": "https://localhost:8080/"
        },
        "id": "4unhNECjPI-1",
        "outputId": "f9107777-541b-471e-90bb-5e2fcb3c1d04"
      },
      "outputs": [
        {
          "output_type": "stream",
          "name": "stdout",
          "text": [
            "centroid: [3.3, 3.7] orthocenter: [6.0, 4.0] circumcenter: [2.0, 3.5]\n"
          ]
        },
        {
          "output_type": "execute_result",
          "data": {
            "text/plain": [
              "[[3.3, 3.7], [6.0, 4.0], [2.0, 3.5]]"
            ]
          },
          "metadata": {},
          "execution_count": 2
        }
      ],
      "source": [
        "# Example\n",
        "find3centers([[0,0],[4,7],[6,4]])"
      ]
    },
    {
      "cell_type": "code",
      "execution_count": null,
      "metadata": {
        "id": "pyzRoemhR-2u"
      },
      "outputs": [],
      "source": [
        "# Help function: Plot polygon\n",
        "def my_polygon(pts,c):\n",
        "  \"\"\"\n",
        "  Args:\n",
        "    pts: list of vertices coordinates\n",
        "  c: line color (string)\n",
        "  Output:\n",
        "    polygon plot\n",
        "  \"\"\"\n",
        "  # appending the first point to pts (this trick closes polygon)\n",
        "  pts.append(pts[0])\n",
        "  # separate x and y values (this is needed for the plot function)\n",
        "  x,y =[[p[0] for p in pts],[p[1] for ?]] # complete encoding of list of y's\n",
        "  # plotting the polygon\n",
        "  plt.plot(x,y, color=c)"
      ]
    },
    {
      "cell_type": "code",
      "execution_count": null,
      "metadata": {
        "id": "mXCp5NYAQj-2"
      },
      "outputs": [],
      "source": [
        "# Main function: Creates the required figure\n",
        "def my_euler(verts,ttl,fig_size):\n",
        "  \"\"\"\n",
        "  Args:\n",
        "    verts:    list of vertices coordinates\n",
        "    ttl:      title (string)\n",
        "    fig_size: figsize (tuple (m,n) of numbers)\n",
        "  Output:\n",
        "    Figure with triangle, its three centers, and the Euler line\n",
        "  \"\"\"\n",
        "  fig = plt.figure(figsize = fig_size)\n",
        "  plt.title(ttl)\n",
        "\n",
        "  centers = find3centers(?) # encode argument of this function\n",
        "\n",
        "  my_polygon(centers,'green') # Euler line plot\n",
        "\n",
        "  # separating of x- and y-coordinates (needed for plotting centers)\n",
        "  x,y =[[p[0] for p in centers],[?]] # encode list of y's\n",
        "  plt.scatter(x, y,color='red') # centers plot\n",
        "  my_polygon(verts,'blue')# triangle plot\n",
        "  plt.show()\n"
      ]
    },
    {
      "cell_type": "code",
      "execution_count": null,
      "metadata": {
        "colab": {
          "base_uri": "https://localhost:8080/",
          "height": 331
        },
        "id": "g2LzVqV_TFJO",
        "outputId": "c81c25f0-6274-485c-ff69-84a5b35878d3"
      },
      "outputs": [
        {
          "output_type": "stream",
          "name": "stdout",
          "text": [
            "centroid: [3.3, 3.7] orthocenter: [6.0, 4.0] circumcenter: [2.0, 3.5]\n"
          ]
        },
        {
          "output_type": "display_data",
          "data": {
            "text/plain": [
              "<Figure size 300x300 with 1 Axes>"
            ],
            "image/png": "[encoded data removed]"
          },
          "metadata": {}
        }
      ],
      "source": [
        "# Example\n",
        "my_euler([[0,0],[4,7],[6,4]],'Euler line',(3,3))"
      ]
    }
  ],
  "metadata": {
    "colab": {
      "provenance": []
    },
    "kernelspec": {
      "display_name": "Python 3",
      "language": "python",
      "name": "python3"
    },
    "language_info": {
      "codemirror_mode": {
        "name": "ipython",
        "version": 3
      },
      "file_extension": ".py",
      "mimetype": "text/x-python",
      "name": "python",
      "nbconvert_exporter": "python",
      "pygments_lexer": "ipython3",
      "version": "3.7.3"
    }
  },
  "nbformat": 4,
  "nbformat_minor": 0
}