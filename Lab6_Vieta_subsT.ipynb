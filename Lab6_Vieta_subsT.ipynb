{
  "cells": [
    {
      "cell_type": "markdown",
      "metadata": {
        "id": "_SOzaNkCCluz"
      },
      "source": [
        "## How to use this notebook\n",
        "Any Jupyter Notebook (JN) is made of \"text\" (Markdown) and \"code\" cells. Code cells must be executed to see the result of the program. To run a cell, select it and press Shift + Enter. Pressing Shift + Enter multiple times will execute consecutive blocks of code one after another, while skipping text cells (executing them does nothing). It is important to run the code cells in the order they appear in the notebook.\n",
        "\n",
        "A complete version of this JN is available by request to instructors using the book \"Exploring mathematics with CAS assistance\" for teaching. This version has blank or partially blank code lines that are supposed to be completed by the user before running the code.\n",
        "\n",
        "Code cells contain (nonexecutable) comments preceded by the pound sign. The comments are of two types:\n",
        "- a short comment placed on a code line typically states what the result of implementation of the encoded operation is\n",
        "- a comment placed on a separate line either names the result of the next block of code lines or provides some details only for the next line where a more involved operation is encoded\n",
        "\n",
        "The code is written by Lydia Novozhilova. Senan Hayes contributed to writing text cells and proofreading, editing, and fruitful discussion of this document.\n",
        "\n",
        "\n"
      ]
    },
    {
      "cell_type": "markdown",
      "metadata": {
        "id": "2-i9k2-mMK6D"
      },
      "source": [
        "\n",
        "# Lab 6: Solving depressed monic cubic equation using Vieta's substitution\n",
        "\n",
        "## Problem formulation\n",
        "Consider a depressed monic cubic equation\n",
        "$$\n",
        "z^3+pz+q = 0.\n",
        "$$\n",
        "Do the following:\n",
        "- Use Vieta's substitution $z=w-p/(3w)$ to transform this equation to quadratic in the new variable $u = w^3.$\n",
        "- Solve the quadratic equation to find $u_j,\\,j=0,1,$ and use these solutions to find solutions to equations $w^3=u_j$ (six $w$-values).\n",
        "- Calculate corresponding $z$-roots of the original equation. Exclude repeated roots.\n",
        "\n",
        " For more details on the lab refer to Section 5.3."
      ]
    },
    {
      "cell_type": "markdown",
      "metadata": {
        "id": "hu48nBfLSBA6"
      },
      "source": [
        "## Summary of this notebook contents\n",
        "### Help functions\n",
        "- **find_u** returns two roots of quadratic equation constructed using Vieta's substitution.\n",
        "- **find_w** calls the function **find_u** and returns three $w$-values for each of the two  $u$-roots. For more on finding all roots of equation in the form $w^n=c$ read Section 5.2.1.\n",
        "\n",
        "The main function **solve_depressed_cubic(p,q,n)** calls the function **find_w** and then uses the Vieta's substitution to obtain a list of corresponding six values of $z$-roots. Some of the repeated $z$-roots are artifacts due to the computational procedure. Conversion to set and then back to list eliminates the repeated roots.\n",
        "\n",
        "However, a cubic equation can have a genuine real repeated root. In this case, using so called *Vieta's formulas*, one can verify if the two complex conjugate approximate roots with tiny imaginary part represent a double real root. The text cell after the main function gives the details of this verification procedure.\n",
        "\n",
        "In the last section of the notebook, an additional related problem (not from  the book) is stated and solved.\n",
        "\n"
      ]
    },
    {
      "cell_type": "code",
      "execution_count": null,
      "metadata": {
        "id": "DLY7LbFkC7Ga"
      },
      "outputs": [],
      "source": [
        "# Help function:\n",
        "# Vieta's substitution and solutions to corresponding quadratic equation in a new variable u=w^3\n",
        "from sympy import *\n",
        "import numpy as np\n",
        "\n",
        "def find_u(p,q):\n",
        "  \"\"\"\n",
        "  Args:\n",
        "    p,q: real numbers\n",
        "  Output:\n",
        "    List of two solutions of quadratic equation for new variable u\n",
        "  \"\"\"\n",
        "  z,w,u = var('z w u')\n",
        "  eq_old = z**3 +p*z + q # lhs of the depressed cubic equation\n",
        "  # Vieta's substitution\n",
        "  rep ={z: w - p/(?)} # complete encoding the Vieta's substitution\n",
        "  # using Vieta's substitution followed by multiplication by w^3\n",
        "  f = expand(w**3*(eq_old.subs(rep)))\n",
        "  print('Equation for the variable w:',?,'=0') # fill in the blank\n",
        "\n",
        "  # three nonzero coefficients of polynomial f\n",
        "  coefs = [f.coeff(w,6),?(w,3),?(w,0)] # fill in the blanks\n",
        "  # fill in the blank:\n",
        "  print('Equation for the variable u:',coeffs[0],'u^2 +',coefs[1],'u +',?,'=0')\n",
        "\n",
        "  # solving quadratic equation for u (fill in the blanks in quadratic formula)\n",
        "  sols_u=[(-coefs[1]+s*sqrt(?**2-4*coefs[?]*?))/(2*coeffs[0]) for s in [-1,1]]\n",
        "  print('sols_u=',sols_u)\n",
        "  return sols_u\n",
        "\n"
      ]
    },
    {
      "cell_type": "code",
      "execution_count": null,
      "metadata": {
        "colab": {
          "base_uri": "https://localhost:8080/"
        },
        "id": "FjLCAp6DyScY",
        "outputId": "99c998c5-2279-4696-de9c-2b1879879fcb"
      },
      "outputs": [
        {
          "name": "stdout",
          "output_type": "stream",
          "text": [
            "Equation for the variable w: w**6 - 3*w**3 - 8/27 =0\n",
            "Equation for the variable u: u^2+ -3 u+ -8/27 =0\n",
            "sols_u= [3/2 - 5*sqrt(33)/18, 3/2 + 5*sqrt(33)/18]\n"
          ]
        },
        {
          "data": {
            "text/plain": [
              "[3/2 - 5*sqrt(33)/18, 3/2 + 5*sqrt(33)/18]"
            ]
          },
          "execution_count": 5,
          "metadata": {},
          "output_type": "execute_result"
        }
      ],
      "source": [
        "# Example\n",
        "find_u(2,-3)"
      ]
    },
    {
      "cell_type": "code",
      "execution_count": null,
      "metadata": {
        "colab": {
          "base_uri": "https://localhost:8080/"
        },
        "id": "3cIJQKaH8-lf",
        "outputId": "cc28a10c-16fb-4b52-cdce-1e4a7c27aa3d"
      },
      "outputs": [
        {
          "name": "stdout",
          "output_type": "stream",
          "text": [
            "Equation for the variable w: w**6 + 16*w**3 + 64 =0\n",
            "Equation for the variable u: u^2+ 16 u+ 64 =0\n",
            "sols_u= [-8, -8]\n"
          ]
        },
        {
          "data": {
            "text/plain": [
              "[-8, -8]"
            ]
          },
          "execution_count": 6,
          "metadata": {},
          "output_type": "execute_result"
        }
      ],
      "source": [
        "# Example: double root for u\n",
        "find_u(-12,16)"
      ]
    },
    {
      "cell_type": "code",
      "execution_count": null,
      "metadata": {
        "id": "hwY4gC1-VZYi"
      },
      "outputs": [],
      "source": [
        "# Help function\n",
        "# Finding roots of w^3=u where u is a solution to appropriate quadratic equation\n",
        "def find_w(p,q):\n",
        "  \"\"\"\n",
        "  Args:\n",
        "    p,q: real numbers\n",
        "  Output:\n",
        "    List of six roots w-roots\n",
        "  \"\"\"\n",
        "  var('w')\n",
        "  sols_u = find_u(p,q)\n",
        "  # list of solutions to w^3=sols_u[0]\n",
        "  sol1=solve(w**3-sols_u[0],w)\n",
        "\n",
        "  sol2=solve(w**3-?,w) # fill in the blank\n",
        "  wroots=sol1+sol2 # merging two lists\n",
        "  return wroots\n"
      ]
    },
    {
      "cell_type": "code",
      "execution_count": null,
      "metadata": {
        "colab": {
          "base_uri": "https://localhost:8080/"
        },
        "id": "vp77xnw0wP_l",
        "outputId": "0ed60024-4b35-40e6-a713-a131a749b4f1"
      },
      "outputs": [
        {
          "name": "stdout",
          "output_type": "stream",
          "text": [
            "Equation for the variable w: w**6 + 2*w**3 - 1 =0\n",
            "Equation for the variable u: u^2+ 2 u+ -1 =0\n",
            "sols_u= [-sqrt(2) - 1, -1 + sqrt(2)]\n"
          ]
        },
        {
          "data": {
            "text/plain": [
              "[-1.3415,\n",
              " 0.67075 - 1.1618*I,\n",
              " 0.67075 + 1.1618*I,\n",
              " 0.74543,\n",
              " -0.37272 - 0.64556*I,\n",
              " -0.37272 + 0.64556*I]"
            ]
          },
          "execution_count": 8,
          "metadata": {},
          "output_type": "execute_result"
        }
      ],
      "source": [
        "# Example\n",
        "wroots=find_w(3,2)\n",
        "[s.evalf(5) for s in wroots]"
      ]
    },
    {
      "cell_type": "code",
      "execution_count": null,
      "metadata": {
        "id": "8jtVbdyhXiRd"
      },
      "outputs": [],
      "source": [
        "# Main function\n",
        "def solve_depressed_cubic(p,q,n):\n",
        "  \"\"\"\n",
        "  Args:\n",
        "    p,q: coefficients of the depressed monic cubic equation x^3+px+q=0\n",
        "    n: number of decimal digits in solution approximations\n",
        "  Output:\n",
        "    List of (approximate) roots of the original depressed cubic\n",
        "  \"\"\"\n",
        "  W =find_w(p,q) # six w-values\n",
        "  # corresponding six z-values\n",
        "  exact_sols = [s - ? for s in W ] # complete encoding of Vieta's substitution\n",
        "  appr_sols = [s.?(n) for s in exact_sols] # encode float approximations of exact_sols\n",
        "  sols = [*set(appr_sols)] # removing duplicates from the list\n",
        "  print('Solutions of depressed cubic:',sols)\n",
        "  return sols\n"
      ]
    },
    {
      "cell_type": "code",
      "execution_count": null,
      "metadata": {
        "colab": {
          "base_uri": "https://localhost:8080/"
        },
        "id": "t1ZWhgcQiElE",
        "outputId": "8e8b34d0-ac6e-4f13-dba2-8e2f28d52baf"
      },
      "outputs": [
        {
          "name": "stdout",
          "output_type": "stream",
          "text": [
            "Equation for the variable w: w**6 + 2*w**3 - 1 =0\n",
            "Equation for the variable u: u^2+ 2 u+ -1 =0\n",
            "sols_u= [-sqrt(2) - 1, -1 + sqrt(2)]\n",
            "Solutions of depressed cubic: [-0.59607, 0.29804 + 1.8073*I, 0.29804 - 1.8073*I]\n"
          ]
        },
        {
          "data": {
            "text/plain": [
              "[-0.59607, 0.29804 + 1.8073*I, 0.29804 - 1.8073*I]"
            ]
          },
          "execution_count": 10,
          "metadata": {},
          "output_type": "execute_result"
        }
      ],
      "source": [
        "# Example\n",
        "solve_depressed_cubic(3,2,5)"
      ]
    },
    {
      "cell_type": "code",
      "execution_count": null,
      "metadata": {
        "colab": {
          "base_uri": "https://localhost:8080/"
        },
        "id": "gfWyZQhjuZpC",
        "outputId": "9df86b5b-23bc-4778-a27f-9964ff4544f9"
      },
      "outputs": [
        {
          "data": {
            "text/plain": [
              "[0.29804 + 1.8073*I, 0.29804 - 1.8073*I, -0.59607]"
            ]
          },
          "execution_count": 11,
          "metadata": {},
          "output_type": "execute_result"
        }
      ],
      "source": [
        "# Check using built-in function:\n",
        "test = solve(z**3+3*z+2)\n",
        "[q.evalf(5) for q in test]"
      ]
    },
    {
      "cell_type": "code",
      "execution_count": null,
      "metadata": {
        "colab": {
          "base_uri": "https://localhost:8080/"
        },
        "id": "GxOHh8ts1frG",
        "outputId": "b39d8f4e-7566-4459-fb8f-686aabd5f8d9"
      },
      "outputs": [
        {
          "name": "stdout",
          "output_type": "stream",
          "text": [
            "Equation for the variable w: w**6 + 16*w**3 + 64 =0\n",
            "Equation for the variable u: u^2+ 16 u+ 64 =0\n",
            "sols_u= [-8, -8]\n",
            "Solutions of depressed cubic: [2.0 - 0.e-9*I, 2.0 + 0.e-9*I, -4.00]\n"
          ]
        },
        {
          "data": {
            "text/plain": [
              "[2.0 - 0.e-9*I, 2.0 + 0.e-9*I, -4.00]"
            ]
          },
          "execution_count": 12,
          "metadata": {},
          "output_type": "execute_result"
        }
      ],
      "source": [
        "#Example: depressed cubic with  double root\n",
        "solve_depressed_cubic(-12,16,3)"
      ]
    },
    {
      "cell_type": "markdown",
      "source": [
        "### How to detect a double real root of a depressed cubic equation\n",
        "\n",
        "One can use the Vieta's formulas that relate the coefficients of a polynomial and its roots. For a monic depressed cubic, the formulas read:\n",
        "$$z_1+z_2+z_3 = 0,\\quad z_1z_2+z_1z_3+z_2z_3=p, \\quad z_1z_2z_3=-q.$$\n",
        "\n",
        "For a monic depressed cubic with roots $a,a,b$, the formulas take the form:\n",
        "$$2a+b=0,\\qquad a^2+2ab=p, \\qquad a^2b=-q.$$\n",
        "It is easy to verify that for the previous example these formulas hold with $a=2,\\,b=-4.$"
      ],
      "metadata": {
        "id": "kUax4rASBQr8"
      }
    },
    {
      "cell_type": "code",
      "execution_count": null,
      "metadata": {
        "colab": {
          "base_uri": "https://localhost:8080/",
          "height": 39
        },
        "id": "wb5IuCRcxiMA",
        "outputId": "5c68a6cf-5033-455e-f9f4-d3f5fdd09ee0"
      },
      "outputs": [
        {
          "output_type": "execute_result",
          "data": {
            "text/plain": [
              "(z - 2)**2*(z + 4)"
            ],
            "text/latex": "$\\displaystyle \\left(z - 2\\right)^{2} \\left(z + 4\\right)$"
          },
          "metadata": {},
          "execution_count": 7
        }
      ],
      "source": [
        "# Check for the previous example by using a built-in function\n",
        "var('z')\n",
        "expr=z**3-12*z+16\n",
        "expr.factor()"
      ]
    },
    {
      "cell_type": "markdown",
      "metadata": {
        "id": "k3Wy1Bk_ShAE"
      },
      "source": [
        "# Enhancement of the lab: Solving general cubic equation\n",
        "\n",
        "A monic cubic polynomial $z^3+a_2z^2+a_1z+a_0$ can be reduced by an appropriate linear substitution $z\\mapsto Z-c$ to the depressed cubic polynomial in $Z$ (see Exercise 5.11, p 71). This allows to use **solve_depressed_cubic** for solving a generic cubic equation.\n",
        "## Problem formulation\n",
        "Write a function **solve_cubic** that does the following:\n",
        "\n",
        "- Finds the shift $c$ of the variable $z$ such that corresponding polynomial in the new variable $Z$ is depressed.\n",
        "- Calls the function **solve_depressed_cubic** to find the roots of the obtained depressed monic polynomial and then computes the $z$-roots of the original polynomial using the shift.\n",
        "\n"
      ]
    },
    {
      "cell_type": "code",
      "execution_count": null,
      "metadata": {
        "id": "80_r-NCEW-gZ"
      },
      "outputs": [],
      "source": [
        "def solve_cubic(A,n):\n",
        "  \"\"\"\n",
        "  Arg:\n",
        "    A= [c,b,a,1]: coefficients of polynomial x^2+ax^2+bx+c (the order is important!)\n",
        "    n: number of digits kept in approximation of results\n",
        "  Output:\n",
        "    Float approximations of the roots of polynomial\n",
        "  \"\"\"\n",
        "  # find shift value\n",
        "  var('z s')\n",
        "  expr=sum(A[k]*z**k for k in range(4)) # given cubic polynomial\n",
        "  P=expr.subs(z,z-s) # the same symbol z is used for new variable\n",
        "  Q=expand(P)\n",
        "  # solution to equation coeff(z**2)=0 for s (list of length 1)\n",
        "  sval=solve(Q.coeff(z**2),s)[0] # append [0] to access the shift value\n",
        "\n",
        "  #Define depressed cubic and find its roots\n",
        "  Q_new=Q.subs(s,sval) # substitution z->z-sval eliminates quadratic term\n",
        "  print('Depressed cubic:',Q_new)\n",
        "  p=Q_new.coeff(?) # complete code for coefficient of linear term in Q_new\n",
        "  q=Q_new-z**3-? # complete code for free term of Q_new\n",
        "  roots=solve_depressed_cubic(p,q,n)\n",
        "  # z-roots of original equation\n",
        "  sols = [s-? for s in roots] # fill in the blank\n",
        "  print('Solutions of given cubic equation:')\n",
        "  return(sols)\n",
        "\n"
      ]
    },
    {
      "cell_type": "code",
      "execution_count": null,
      "metadata": {
        "colab": {
          "base_uri": "https://localhost:8080/"
        },
        "id": "uRfQqYv4aQOJ",
        "outputId": "e1a3f2bf-7bbe-4c1f-f766-f492db6ebf31"
      },
      "outputs": [
        {
          "name": "stdout",
          "output_type": "stream",
          "text": [
            "Depressed cubic: z**3 + 5*z/3 + 70/27\n",
            "Equation for the variable w: w**6 + 70*w**3/27 - 125/729 =0\n",
            "Equation for the variable u: u^2+ 70/27 u+ -125/729 =0\n",
            "sols_u= [-5*sqrt(6)/9 - 35/27, -35/27 + 5*sqrt(6)/9]\n",
            "Solutions of depressed cubic: [0.49198 + 1.5469*I, -0.98396, 0.49198 - 1.5469*I]\n",
            "Solutions of given cubic equation:\n"
          ]
        },
        {
          "data": {
            "text/plain": [
              "[-0.17469 + 1.5469*I, -1.6506, -0.17469 - 1.5469*I]"
            ]
          },
          "execution_count": 19,
          "metadata": {},
          "output_type": "execute_result"
        }
      ],
      "source": [
        "# Example\n",
        "solve_cubic([4,3,2,1],5)\n"
      ]
    },
    {
      "cell_type": "code",
      "execution_count": null,
      "metadata": {
        "colab": {
          "base_uri": "https://localhost:8080/"
        },
        "id": "KeKTc9oLanCC",
        "outputId": "0fb88182-e37f-4a52-f2f7-c34dc1dd5c90"
      },
      "outputs": [
        {
          "data": {
            "text/plain": [
              "[-0.17469 + 1.5469*I, -0.17469 - 1.5469*I, -1.6506]"
            ]
          },
          "execution_count": 14,
          "metadata": {},
          "output_type": "execute_result"
        }
      ],
      "source": [
        "#Check using built-in function\n",
        "var('x')\n",
        "test=solve(x**3+2*x**2+3*x+4,x)\n",
        "[q.evalf(5) for q in test]"
      ]
    },
    {
      "cell_type": "code",
      "execution_count": null,
      "metadata": {
        "id": "bs8H4r3u3hNC"
      },
      "outputs": [],
      "source": []
    }
  ],
  "metadata": {
    "colab": {
      "provenance": []
    },
    "kernelspec": {
      "display_name": "Python 3 (ipykernel)",
      "language": "python",
      "name": "python3"
    },
    "language_info": {
      "codemirror_mode": {
        "name": "ipython",
        "version": 3
      },
      "file_extension": ".py",
      "mimetype": "text/x-python",
      "name": "python",
      "nbconvert_exporter": "python",
      "pygments_lexer": "ipython3",
      "version": "3.10.9"
    }
  },
  "nbformat": 4,
  "nbformat_minor": 0
}