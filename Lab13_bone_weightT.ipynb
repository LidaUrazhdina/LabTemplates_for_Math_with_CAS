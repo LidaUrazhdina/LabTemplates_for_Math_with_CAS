{
  "cells": [
    {
      "cell_type": "markdown",
      "metadata": {
        "id": "sPImG2n5HDC4"
      },
      "source": [
        "## How to use this notebook\n",
        "Any Jupyter Notebook (JN) is made of \"text\" (Markdown) and \"code\" cells. Code cells must be executed to see the result of the program. To run a cell, select it and press Shift + Enter. Using Shift + Enter multiple times will execute consecutive blocks of code one after another, while skipping text cells (executing them does nothing). It is important to run the code cells in the order they appear in the notebook.\n",
        "\n",
        "A complete version of this JN is available by request to instructors using the book \"Exploring mathematics with CAS assistance\" for teaching. This version has blank or partially blank code lines that are supposed to be completed by the user before running the code.\n",
        "\n",
        "Code cells contain (nonexecutable) comments preceded by the pound sign. The comments are of two types:\n",
        "- a short comment placed on a code line typically states what the result of implementation of the encoded operation is\n",
        "- a comment placed on a separate line either names the result of the following block of code lines or provides some details only for the next line where a more involved operation is encoded\n",
        "\n",
        "The JN was written by Lydia Novozhilova."
      ]
    },
    {
      "cell_type": "markdown",
      "metadata": {
        "id": "HC6v6Z_EHZTZ"
      },
      "source": [
        "# Problem formulation\n",
        "\n",
        "Consider two lists of data of equal length for a predictor variable $x$ and response variable $y.$ Suppose that a plot of log-log data shows some linear association.This suggests that the variables are related by a power law $y = cx^r.$ Do the following.\n",
        "- Make a function **my_lst_squares** that\n",
        "  - uses a built-in Python function for linear list squares solution to find the slope and intersept of the linear fit for the log-log data\n",
        "  - makes a figure with plot of the log-log data and the line of best fit\n",
        "$$\\ln(y)=m\\ln(x)+b \\qquad (*)$$\n",
        "  \n",
        "- Make a function **find_value** that takes an unseen predictor/response variable value (not in the original data) and estimates a response/predictor variable value using the power model derived from equation (*).\n",
        "\n",
        "Before using computer implementation of this problem on a specific data, the user should verify that the log-log plot of the data points shows linear association.\n",
        "\n",
        "For more details read Section 10.5.1 and use the data there to test the functions in this lab. For general information on linear regression refer to Section 10.5.\n",
        "\n",
        "\n",
        "  \n"
      ]
    },
    {
      "cell_type": "markdown",
      "metadata": {
        "id": "6WsbXLhoHOsP"
      },
      "source": [
        "## Special features ##\n",
        "1. Function **np.linalg.lstsq(np.vstack([U, np.ones(len(x))]).T, V, rcond=None)[0]**. This built-in function (used in **my_list_squares**)  encodes several steps for constructing a system $AU = V$ and solving it by the LS method. The function arguments are:\n",
        " - **np.vstack([U, np.ones(len(x))]).T** -- the system matrix $A.$ Here **U** is the Numpy array for $x,$ and symbol **T** stands for the transposition operation.\n",
        " - **rcond=None** sets the machine precision computations to default value.\n",
        " - **np.linalg.lstsq** solves the system $AU = V$ by the *LS method*. Here **V** is the Numpy array for $y.$ (Refer to p. 155 for a detailed demonstration of the LS method in the simplest possible setting.)\n",
        " - the last element $[0]$ of the function code selects the list of parameters $[m,b]$ from the output tuple produced by the function **np.linalg.lstsq**.\n",
        "  A simple example below illustrates inner workings of this function.   \n",
        "2. Function **global** $m,b$ makes parameters $m,\\,b$ of the linear regression line found by **LS_log** available for the function **find_value**.\n",
        "\n",
        "\n"
      ]
    },
    {
      "cell_type": "code",
      "execution_count": null,
      "metadata": {
        "id": "8GLSgRvzK5-l"
      },
      "outputs": [],
      "source": [
        "# Loading libraries\n",
        "import numpy as np\n",
        "import matplotlib.pyplot as plt"
      ]
    },
    {
      "cell_type": "code",
      "execution_count": null,
      "metadata": {
        "colab": {
          "base_uri": "https://localhost:8080/"
        },
        "id": "H5H3W5366SiH",
        "outputId": "f4b29c0a-36c7-4b08-f1aa-0d84542fda81"
      },
      "outputs": [
        {
          "name": "stdout",
          "output_type": "stream",
          "text": [
            "A = [[0. 1.]\n",
            " [1. 1.]\n",
            " [2. 1.]\n",
            " [3. 1.]]\n",
            "Parameters: m= 1.0 b= -0.95\n"
          ]
        }
      ],
      "source": [
        "# Example: illustration of the inner workings of the function\n",
        "# np.linalg.lstsq(np.vstack([x, np.ones(len(x))]).T, y, rcond=None)[0]\n",
        "\n",
        "x = np.array([0, 1, 2, 3])\n",
        "y = np.array([-1, 0.2, 0.9, 2.1])\n",
        "A = np.vstack([x, np.ones(len(x))]).T\n",
        "print('A =',A)\n",
        "res = np.linalg.lstsq(A, y, rcond=None)[0]\n",
        "print('Parameters: m=',res[0].round(3),'b=',res[1].round(3))"
      ]
    },
    {
      "cell_type": "code",
      "execution_count": null,
      "metadata": {
        "id": "fyJkeB9JE8gR"
      },
      "outputs": [],
      "source": [
        "# Data for the test example\n",
        "w = [0.0063,0.0295,0.8450,2.0000,22.7000,67.3000,6600.0000]\n",
        "bw = [0.0003,0.0013,0.0436,0.1810,1.1500,12.2000,1782.0000]"
      ]
    },
    {
      "cell_type": "code",
      "execution_count": null,
      "metadata": {
        "id": "ck_szKXSaWod"
      },
      "outputs": [],
      "source": [
        "# Least square implementation for log-log data\n",
        "\n",
        "def LS_log(x,y):\n",
        "  \"\"\"\n",
        "  Args:\n",
        "    x: list of x-data\n",
        "    y: list of y-data\n",
        "  Output:\n",
        "    parameters m, b of the best linear log-log fit log(y)=m*log(x)+b and\n",
        "    plot of log-log data and the fitted line\n",
        "  \"\"\"\n",
        "  # Set up figure parameters\n",
        "  ax = plt.figure()\n",
        "  plt.rcParams['figure.figsize'] = [4,3]\n",
        "  ttl='Regression line and log-log plot of data'\n",
        "  plt.title(ttl)\n",
        "\n",
        "  # Finding parameters of linear fit for log-log data\n",
        "  U = np.array(np.log(x))\n",
        "  # fill in the blanks in the next two code lines\n",
        "  V = np.array(?)\n",
        "  res = np.linalg.lstsq(np.vstack([U, np.ones(?)]).T, V, rcond=None)[?]\n",
        "\n",
        "\n",
        "  global m,b\n",
        "  m=round(res[0],5) # slope approximation\n",
        "  b=? # encode y-intersept approximation\n",
        "\n",
        "  print('Slope =',m,', y-intersept =',b)\n",
        "  plt.plot(U, V, 'o', label='log-log data', markersize=5)\n",
        "  plt.plot(U, m*U + b, color='red', label='Fitting line')\n",
        "  plt.legend()\n",
        "  plt.show()"
      ]
    },
    {
      "cell_type": "code",
      "execution_count": null,
      "metadata": {
        "colab": {
          "base_uri": "https://localhost:8080/",
          "height": 331
        },
        "id": "6PGyF9YDbSQZ",
        "outputId": "e34f110b-6504-4d2c-92fc-b17ec524bfc0"
      },
      "outputs": [
        {
          "name": "stdout",
          "output_type": "stream",
          "text": [
            "Slope = 1.12998 , y-intersept = -2.65437\n"
          ]
        },
        {
          "data": {
            "image/png": "[encoded data removed]",
            "text/plain": [
              "<Figure size 400x300 with 1 Axes>"
            ]
          },
          "metadata": {},
          "output_type": "display_data"
        }
      ],
      "source": [
        "# Example\n",
        "LS_log(w,bw)"
      ]
    },
    {
      "cell_type": "code",
      "execution_count": null,
      "metadata": {
        "id": "64BJ6rFasrLl"
      },
      "outputs": [],
      "source": [
        "# Using power law found by manual potentiation of (*) for predicting\n",
        "# one of the original variables value given a new value of the other variable\n",
        "\n",
        "def find_value(val,p):\n",
        "  \"\"\"\n",
        "  Args:\n",
        "    val: value of x- or y-variable (float)\n",
        "    p: parameter; if p=0, val is x-value; for any other value val is y-value\n",
        "  Output:\n",
        "    value of y if x=val or value of x if y=val\n",
        "  \"\"\"\n",
        "  if p==0:\n",
        "    # encode y-value estimate for predictor variable value x=val\n",
        "    yval = ?\n",
        "    print('y = ',round(yval,4))\n",
        "  else:\n",
        "    # complete encoding of x-value estimate for response variable value y=val\n",
        "    xval = np.exp((np.log(val)-?)/?)\n",
        "    print('x = ',round(xval,4))\n"
      ]
    },
    {
      "cell_type": "code",
      "execution_count": null,
      "metadata": {
        "colab": {
          "base_uri": "https://localhost:8080/"
        },
        "id": "XiCIwRlivYTD",
        "outputId": "69ad419e-08c7-462b-a59d-a14e633e66cd"
      },
      "outputs": [
        {
          "name": "stdout",
          "output_type": "stream",
          "text": [
            "y =  10.2281\n"
          ]
        }
      ],
      "source": [
        "# Example: Estimating bone weight for given weight value\n",
        "find_value(82,0)"
      ]
    },
    {
      "cell_type": "code",
      "execution_count": null,
      "metadata": {
        "colab": {
          "base_uri": "https://localhost:8080/"
        },
        "id": "NwHXJDhavce5",
        "outputId": "5c74b4ef-c9f3-4473-beda-85cb54582bc5"
      },
      "outputs": [
        {
          "name": "stdout",
          "output_type": "stream",
          "text": [
            "x =  82.0138\n"
          ]
        }
      ],
      "source": [
        "# Example: Estimating weight for given bone weight value\n",
        "find_value(10.23,1)"
      ]
    },
    {
      "cell_type": "code",
      "execution_count": null,
      "metadata": {
        "id": "fJIcH9-w00Uw"
      },
      "outputs": [],
      "source": []
    }
  ],
  "metadata": {
    "colab": {
      "provenance": []
    },
    "kernelspec": {
      "display_name": "Python 3 (ipykernel)",
      "language": "python",
      "name": "python3"
    },
    "language_info": {
      "codemirror_mode": {
        "name": "ipython",
        "version": 3
      },
      "file_extension": ".py",
      "mimetype": "text/x-python",
      "name": "python",
      "nbconvert_exporter": "python",
      "pygments_lexer": "ipython3",
      "version": "3.10.9"
    }
  },
  "nbformat": 4,
  "nbformat_minor": 0
}