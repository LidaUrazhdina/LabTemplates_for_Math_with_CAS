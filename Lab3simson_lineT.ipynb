{
  "cells": [
    {
      "cell_type": "markdown",
      "metadata": {
        "id": "4YVOUmiP1m-X"
      },
      "source": [
        "## How to use this notebook\n",
        "Any Jupyter Notebook (JN) is made of \"text\" (Markdown) and \"code\" cells. Code cells must be executed to see the result of the program. To run a cell, select it and press Shift + Enter. Pressing Shift + Enter multiple times will execute consecutive blocks of code one after another, while skipping text cells (executing them does nothing). It is important to run the code cells in the order they appear in the notebook.\n",
        "\n",
        "A complete version of this JN is available by request to instructors using the book \"Exploring mathematics wth CAS assistance\" for teaching. This version has blank or partially blank code lines that are supposed to be completed by the user before running the code.\n",
        "\n",
        "Code cells contain (nonexecutable) comments preceded by the pound sign. The comments are of two types:\n",
        "- a short comment placed on a code line typically states what the result of implementation of the encoded operation\n",
        "- a comment placed on a separate line states either the result of the fnext block of code lines or provides some details only for the next line where a more involved operation is encoded\n",
        "\n",
        "The code is written by Lydia Novozhilova. Senan Hayes contributed to writing text cells and proofreading, editing, and fruitful discussion of this document."
      ]
    },
    {
      "cell_type": "markdown",
      "metadata": {
        "id": "enE7j4TQ1wQn"
      },
      "source": [
        "# Lab 3: Simson line\n",
        "## Problem formulation\n",
        "\n",
        "Consider a triangle $ABC$ inscribed into the unit circle centered at the origin and a point $P$ on the circle. Make a function that finds the perpendiculars from $P$ to the sides of the triangle (or their extentions) and the Simson line. Plot the triangle, the perpendiculars, and the Simson line in one figure.\n",
        "\n",
        "For more details regarding this lab refer to Section 3.2."
      ]
    },
    {
      "cell_type": "markdown",
      "metadata": {
        "id": "GEiAM4jw8Wh2"
      },
      "source": [
        "## Brief description of the notebook contents\n",
        "### Help functions:\n",
        "\n",
        "- depending on parameter value, the function **find_line** returns the coefficients of the general equation of line passing through two given points or having given normal vector and passing through a given point.\n",
        "- **det2**, and **cramer2** include comments that make their actions clear. To use the JN in the case of termination of the function **cramer2**, the user should re-execute all code cells after fixing the input.\n",
        "- **find_feet** returns a list of coordinates of feet of perpendiculars dropped from the point $P$ onto the sides of the given triangle. It calls help functions needed for the task.\n",
        "- **my_polygon** takes a list of vertices of a polygon and returns a plot of the polygon. The way the built-in plot function works requires splitting of vertices coordinates into $x$- and $y$-lists.\n",
        "- **plot_perps** calls help function **find_feet** and **find_line** when needed and plots the prependiculars from P to the sides of the triangle (or its extentions).\n",
        "\n",
        "The main function **make_figure** includes comments that make its actions clear."
      ]
    },
    {
      "cell_type": "code",
      "execution_count": null,
      "metadata": {
        "id": "WSHfSMrT455B"
      },
      "outputs": [],
      "source": [
        "# Help function: finding equation of line passing through two given points or\n",
        "# line with given normal passing through given point\n",
        "import numpy as np\n",
        "\n",
        "def find_line(pt,item,param):\n",
        "  \"\"\"\n",
        "  Args:\n",
        "    pt: point on the line (list of length 2)\n",
        "    item: list of length 2\n",
        "    param: parameter that takes value 1 if item is the second point on the line;\n",
        "    any other value indicates that item is a normal vector to the line\n",
        "  Output:\n",
        "    List [a,b,c] of the coefficients of line equation ax+by=c\n",
        "  \"\"\"\n",
        "  if param==1:\n",
        "    n=[item[1]-pt[1],?] # encode second coordinate of normal vector\n",
        "  else:\n",
        "    n=item\n",
        "  return [n[0],n[1],?] # encode coefficient c of the line equation\n"
      ]
    },
    {
      "cell_type": "code",
      "execution_count": null,
      "metadata": {
        "colab": {
          "base_uri": "https://localhost:8080/"
        },
        "id": "mwQQkRH7-ZJI",
        "outputId": "f91e58e7-28c6-4405-8eca-4ebab24b712b"
      },
      "outputs": [
        {
          "data": {
            "text/plain": [
              "[-4, -1, -5]"
            ]
          },
          "execution_count": 2,
          "metadata": {},
          "output_type": "execute_result"
        }
      ],
      "source": [
        "# Example\n",
        "find_line([1,1],[2,-3],1)\n"
      ]
    },
    {
      "cell_type": "markdown",
      "metadata": {
        "id": "grnhXIWt-vWv"
      },
      "source": [
        "Manual check: equation of line passing through points $[1,1],\\,[2,-3]$:\n",
        "$$y=1-\\frac{-3-1}{2-1}(x-1)\\Rightarrow 4x+y=5.$$"
      ]
    },
    {
      "cell_type": "code",
      "execution_count": null,
      "metadata": {
        "id": "GNWOrAtm7Jg4"
      },
      "outputs": [],
      "source": [
        "# two help functions\n",
        "\n",
        "#Determinant of 2x2 matrix\n",
        "def det2(p,q):\n",
        "  \"\"\"\n",
        "  Args:\n",
        "    p,q: first and second rows of 2x2 matrix (each is a list of length 2)\n",
        "  Output:\n",
        "    determinant of the matrix\n",
        "  \"\"\"\n",
        "  # complete encoding of determinant\n",
        "  return p[0]*q[1]-p[1]*?\n",
        "\n",
        "# Cramer's Rule\n",
        "def cramer2(coef1,coef2):\n",
        "  \"\"\"\n",
        "  Args:\n",
        "    coef1, coef2: lists [a_i,b_i,c_i] of coefficients of two lines equations\n",
        "    a_ix+b_iy=c_i, i=1,2\n",
        "  Output:\n",
        "    coordinates [x0,y0] of the intersection of two lines\n",
        "    (if the system is determinate)\n",
        "  \"\"\"\n",
        "  [p,q,r] =[[coef1[k],coef2[k]] for k in range(3)]\n",
        "  denom = det2(p,q)\n",
        "  if denom==0:\n",
        "    print(\"The system of linear equations is not determinate.\")\n",
        "    quit() # termination of the program\n",
        "  xdet = det2(?,?) # complete encoding of determinant\n",
        "  ydet = det2(?,?) # complete encoding of determinant\n",
        "  return [xdet/denom,ydet/denom]"
      ]
    },
    {
      "cell_type": "code",
      "execution_count": null,
      "metadata": {
        "colab": {
          "base_uri": "https://localhost:8080/"
        },
        "id": "-qhSgCZhAgWv",
        "outputId": "b67a4bd1-4562-43bc-bfef-a4d098cb3431"
      },
      "outputs": [
        {
          "data": {
            "text/plain": [
              "[1.4, -0.6]"
            ]
          },
          "execution_count": 4,
          "metadata": {},
          "output_type": "execute_result"
        }
      ],
      "source": [
        "# Example\n",
        "cramer2([4,1,5],[1,-1,2])\n",
        "# Manual calculation confirms the result."
      ]
    },
    {
      "cell_type": "code",
      "execution_count": null,
      "metadata": {
        "id": "jeUdLrX5455C"
      },
      "outputs": [],
      "source": [
        "# Help function: The feet of three perpendiculars\n",
        "\n",
        "def find_feet(pts):\n",
        "  \"\"\"\n",
        "  Args:\n",
        "    pts: list of points P,A,B,C coordinates (in this order)\n",
        "  Output:\n",
        "    list of three feet coordinates\n",
        "  \"\"\"\n",
        "  # separating vertices of triangle from pts (pts[0] are coordinates of P)\n",
        "  verts = pts[1:4] # vertices of triangle\n",
        "  verts.append(verts[0]) # trick to simplify coding side equations\n",
        "  # Creating list of feet coordinates\n",
        "  feet = []\n",
        "  for k in range(3):\n",
        "    # coefficients of side equation\n",
        "    side = find_line(verts[?],verts[k+1],1) # complete coding\n",
        "\n",
        "    # coefficients of perpendicular from P to side\n",
        "    ortho = find_line(pts[0],[?,?],0) # encode normal to perpendicular from P to side\n",
        "    foot = cramer2(side,ortho)\n",
        "    feet.append(foot)\n",
        "  return feet\n"
      ]
    },
    {
      "cell_type": "code",
      "execution_count": null,
      "metadata": {
        "colab": {
          "base_uri": "https://localhost:8080/"
        },
        "id": "z6OPdC3IkmMF",
        "outputId": "0ffcf9da-76fd-46a4-d320-b6a9bb4fe12a"
      },
      "outputs": [
        {
          "data": {
            "text/plain": [
              "[[-0.443, 0.495], [1.214, -0.128], [0.351, 0.195]]"
            ]
          },
          "execution_count": 6,
          "metadata": {},
          "output_type": "execute_result"
        }
      ],
      "source": [
        "# Example. Argument values correspond to polar angles in the last example of this JN.\n",
        "# The next code cell shows how coordinates of one of the points (P) are found.\n",
        "test=find_feet([[0.73, 0.68], [-0.5, 0.86], [-0.21, -0.98], [0.96, -0.28]])\n",
        "[[round(q[0],3),round(q[1],3)] for q in test]\n"
      ]
    },
    {
      "cell_type": "code",
      "execution_count": null,
      "metadata": {
        "colab": {
          "base_uri": "https://localhost:8080/"
        },
        "id": "jYynD0tjUrAy",
        "outputId": "aebb659c-d865-4722-a376-cac250fc90d7"
      },
      "outputs": [
        {
          "data": {
            "text/plain": [
              "(0.73, 0.68)"
            ]
          },
          "execution_count": 7,
          "metadata": {},
          "output_type": "execute_result"
        }
      ],
      "source": [
        "# The polar angle for P in the last example is 0.75.\n",
        "# Cartesian coordinates of P rounded to two decimals are\n",
        "np.round(np.cos(0.75),decimals=2), np.round(np.sin(0.75),decimals=2)"
      ]
    },
    {
      "cell_type": "code",
      "execution_count": null,
      "metadata": {
        "id": "k69_n1R6455D"
      },
      "outputs": [],
      "source": [
        "# Help function: plotting polygon with any number of verticies\n",
        "import matplotlib.pyplot as plt\n",
        "\n",
        "def my_polygon(pts,c):\n",
        "  \"\"\"\n",
        "  Args:\n",
        "    pts: list of polygon vertices coordinates\n",
        "    c: color (string)\n",
        "  Output:\n",
        "    polygon plot\n",
        "  \"\"\"\n",
        "  pts.append(pts[0]) # appending first vertex to pts for closing polygon\n",
        "  x,y =[[p[0] for p in pts],[? for p in ?]] # complete encoding of y-coordinates\n",
        "  plt.plot(x,y, color=c)\n"
      ]
    },
    {
      "cell_type": "code",
      "execution_count": null,
      "metadata": {
        "id": "ZhvIhNJLpNMY"
      },
      "outputs": [],
      "source": [
        "# Plot of a circle of radius r centered at the origin using polar coordinates\n",
        "\n",
        "def my_circle(r):\n",
        "  theta = np.linspace(0, 2*np.pi, 100)\n",
        "  x = r*np.cos(theta)\n",
        "  y = ? # complete encoding of y-coordinates\n",
        "  plt.axis('equal')\n",
        "  plt.plot(x,y)\n"
      ]
    },
    {
      "cell_type": "code",
      "execution_count": null,
      "metadata": {
        "id": "VekZ8rX7r47o"
      },
      "outputs": [],
      "source": [
        "# Help function: Plot perpendiculars\n",
        "\n",
        "def plot_perps(pts,c):\n",
        "  \"\"\"\n",
        "  Args:\n",
        "    pts: list of coordinates of points P, A, B, C (in this order)\n",
        "    c: color (string)\n",
        "  Output:\n",
        "    feet plot\n",
        "  \"\"\"\n",
        "  feet = find_feet(pts)\n",
        "  for k in range(3):\n",
        "    # complete encoding of end points of kth perpendicular\n",
        "    plt.plot([pts[?][0],feet[k][0]],[pts[0][?],feet[?][1]],color=c,linestyle='--')\n",
        "  plt.show()\n"
      ]
    },
    {
      "cell_type": "code",
      "execution_count": null,
      "metadata": {
        "id": "OBORU04q455E"
      },
      "outputs": [],
      "source": [
        "# Main function: Making the required figure\n",
        "\n",
        "def make_figure(T,ttl,fig_size):\n",
        "  \"\"\"\n",
        "  Args:\n",
        "    T: List of four floats --  polar angles that define the vertices [cos(T[i]),sin(T[i])],\n",
        "    i=1,2,3, and point P([c(T[0]),s(T[0])]);\n",
        "    ttl: title (string)\n",
        "    fig_size: 2-tuple (m,n) of positive numbers\n",
        "  Output:\n",
        "    Required figure\n",
        "  \"\"\"\n",
        "  fig = plt.figure(figsize = fig_size)\n",
        "  plt.title(ttl)\n",
        "  # coordinates of four points\n",
        "  pts = [[np.?(T[k]),np.sin(T[k])] for k in range(?)] # fill in the blanks\n",
        "\n",
        "  # plot Simson line\n",
        "  feet = find_feet(pts)\n",
        "  my_polygon(feet,'green')\n",
        "\n",
        "  # plot feet\n",
        "  x,y =[p[0] for p in feet],[p[?] for p in feet] # fill in the blank\n",
        "  plt.scatter(x, y,color='red')\n",
        "  # plot point P\n",
        "  plt.scatter(pts[0][0], ?,color='red') # encode y-coordinate of point P\n",
        "\n",
        "\n",
        "  # plot triangle and unit circle\n",
        "  verts = pts[1:4]\n",
        "  my_polygon(verts,'blue')\n",
        "  my_circle(?) # fill in the blank\n",
        "\n",
        "  plot_perps(pts,'brown') # plot perpendiculars\n",
        "  plt.show()\n",
        "\n"
      ]
    },
    {
      "cell_type": "code",
      "execution_count": null,
      "metadata": {
        "colab": {
          "base_uri": "https://localhost:8080/",
          "height": 391
        },
        "id": "Lxw662T1kmMG",
        "outputId": "590c4697-84cd-408b-f58f-7b9137d9040d"
      },
      "outputs": [
        {
          "data": {
            "image/png": "[encoded data removed]",
            "text/plain": [
              "<Figure size 400x400 with 1 Axes>"
            ]
          },
          "metadata": {},
          "output_type": "display_data"
        }
      ],
      "source": [
        "# Example\n",
        "make_figure([0.75,2.1,4.5,6.0],'Simson line',(4,4))\n"
      ]
    },
    {
      "cell_type": "code",
      "execution_count": null,
      "metadata": {
        "id": "xet5j2-LHdaT"
      },
      "outputs": [],
      "source": []
    }
  ],
  "metadata": {
    "colab": {
      "provenance": []
    },
    "kernelspec": {
      "display_name": "Python 3 (ipykernel)",
      "language": "python",
      "name": "python3"
    },
    "language_info": {
      "codemirror_mode": {
        "name": "ipython",
        "version": 3
      },
      "file_extension": ".py",
      "mimetype": "text/x-python",
      "name": "python",
      "nbconvert_exporter": "python",
      "pygments_lexer": "ipython3",
      "version": "3.10.9"
    }
  },
  "nbformat": 4,
  "nbformat_minor": 0
}