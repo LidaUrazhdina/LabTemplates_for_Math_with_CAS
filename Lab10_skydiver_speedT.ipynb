{
  "cells": [
    {
      "cell_type": "markdown",
      "metadata": {
        "id": "3jJW7XtDu1NB"
      },
      "source": [
        "## How to use this notebook\n",
        "Any Jupyter Notebook (JN) is made of \"text\" (Markdown) and \"code\" cells. Code cells must be executed to see the result of the program. To run a cell, select it and press Shift + Enter. Using Shift + Enter multiple times will execute consecutive blocks of code one after another, while skipping text cells (executing them does nothing). It is important to run the code cells in the order they appear in the notebook.\n",
        "\n",
        "A complete version of this JN is available by request to instructors using the book \"Exploring mathematics with CAS assistance\" for teaching. This version has blank or partially blank code lines that are supposed to be completed by the user before running the code.\n",
        "\n",
        "Code cells contain (nonexecutable) comments preceded by the pound sign. The comments are of two types:\n",
        "- a short comment placed on a code line typically states what the result of implementation of the encoded operation is\n",
        "- a comment placed on a separate line either names the result of the following block of code lines or provides some details only for the next line where a more involved operation is encoded\n",
        "\n",
        "This JN was written by Lydia Novozhilova.\n",
        "\n",
        "\n"
      ]
    },
    {
      "cell_type": "markdown",
      "metadata": {
        "id": "USwsbVuupgyV"
      },
      "source": [
        "# Lab 10: Speed of a skydiver\n",
        "## Problem formulation\n",
        "A skydiver opens a parachute when he/she reaches the speed of $s_0\\,\\text{m/s}.$\n",
        "The total mass of the diver and parachute is $m\\,\\text{kg}.$ Assume that the air resistance $u$ is proprtional to the square of the velocity (wich is identified here with speed $s$), that is, $u(t)=Cs(t)^2$ for some constant $C.$\n",
        "Do the following:\n",
        "- (manual) Use Newton's Second Law to derive the differential equation for the speed of the diver and find its symbolic solution.\n",
        "- Make a function **diver_speed(m,C,s0)** that uses the symbolic solution $s(t,m,C,s0)$, substitutes the parameters values and\n",
        "returns the speed of a skydiver as a function of time.\n",
        "- Test the function **diver_speed** on the following data: total weight $720\\, \\text{kg m/s}^2,\\,C = 25\\, \\text{kg/m},\\,s_0 = 10\\, \\text{m/s}.$ Use the gravitational constant $g = 9.8\\, \\text{m/s}^2.$\n",
        "- Plot the velocity and acceleration for the test example.\n",
        "- Suppose that the terminal speed for safe landing must be less or equal $6\\,\\text{m/s}.$ Estimate the maximal admissible total weight. Assume that $C = 20\\, \\text{kg/m}.$\n",
        "\n",
        "For more details see Section 8.4."
      ]
    },
    {
      "cell_type": "markdown",
      "metadata": {
        "id": "hG9qPtTPhN_x"
      },
      "source": [
        "## Hints for deriving and solving mathematical model of the diver's motion\n",
        "- Using the Newton's Second Law, one can obtain\n",
        "$$\\dot{s}=c(k^2-s^2),\\qquad  (*)$$\n",
        "where $c$ and $k$ are defined  by the given parameters $m,\\,g,\\,C.$\n",
        "\n",
        "- Separating the variables in this differential equation should be done manually. Then, to simplify technically involved integration in the variable $s$, the user can employ Sympy function **integrate**. The first code cell below gives an example of using this command. The initial condition specifies the value of a constant of integration.\n",
        "- Applying potentiation and some algebratic manipulations to the result of integration, one can obtain\n",
        "$$ s(t) = \\frac{k(1+p\\exp(-q\\,t))}{1-p\\exp(-q\\,t)}.\\qquad (**)$$\n",
        "In this equation the value of constant $p$ is defined by the initial condition; the constant $q$ is determined by the parameters $w,\\,C$ and the gravitational constant $g.$ Use the value $g=9.8\\text{m/s}^2.$"
      ]
    },
    {
      "cell_type": "markdown",
      "metadata": {
        "id": "6-DFv9OtLSc3"
      },
      "source": [
        "## Brief description of this JN contents\n",
        "\n",
        "The function **solve_model** involves encoding the results of manually done work: the ODE model $(*)$  and the speed function $(**).$ Since the templates of these functions are provided, the only task for the user is to specify parameters $c,k,p,q$ in terms of the given quantities. The built-in function **N(expr, n)** used in **solve_model** is equivalent to **expr.evalf(n)** in some previous labs.\n",
        "\n",
        "The function **plot_task** makes a figure with two required plots. It is instructive to compare built-in Sympy plotting functions with similar commands of the Python library **mathplotlib.pyplot** used previously.\n",
        "\n",
        "Using solution $(**)$ to the IVP for ODE $(*)$, the last task can be implemented manually. After some analysis, this can be done in one line of a simple calculation.\n",
        "\n",
        "\n"
      ]
    },
    {
      "cell_type": "code",
      "source": [
        "# Loading Sympy library\n",
        "from sympy import *\n"
      ],
      "metadata": {
        "id": "p7OYzY9LzR8y"
      },
      "execution_count": null,
      "outputs": []
    },
    {
      "cell_type": "code",
      "source": [
        "# Example: Sympy function \"integrate\" demo\n",
        "\n",
        "s = var('s')\n",
        "integrate(1/(1-s**2),s)"
      ],
      "metadata": {
        "colab": {
          "base_uri": "https://localhost:8080/",
          "height": 53
        },
        "id": "i4Vhepuj_9vV",
        "outputId": "c2808da7-6705-4a3c-cbc1-7d30b70567a2"
      },
      "execution_count": null,
      "outputs": [
        {
          "output_type": "execute_result",
          "data": {
            "text/plain": [
              "-log(s - 1)/2 + log(s + 1)/2"
            ],
            "text/latex": "$\\displaystyle - \\frac{\\log{\\left(s - 1 \\right)}}{2} + \\frac{\\log{\\left(s + 1 \\right)}}{2}$"
          },
          "metadata": {},
          "execution_count": 2
        }
      ]
    },
    {
      "cell_type": "code",
      "execution_count": null,
      "metadata": {
        "id": "-t0nvvIZ6fta"
      },
      "outputs": [],
      "source": [
        "# Solving the IVP for ODE (*)\n",
        "\n",
        "from sympy import *\n",
        "\n",
        "def find_speed(w,s0,C,n):\n",
        "  \"\"\"\n",
        "  Args:\n",
        "    w: total weight\n",
        "    s0: initial speed\n",
        "    C: drag coefficient\n",
        "    n: number of digits in decimal approximations\n",
        "  Output:\n",
        "    solution to ODE model of the diver's motion, the speed\n",
        "  \"\"\"\n",
        "  var('t')\n",
        "  g=9.8\n",
        "  # Complete encoding of parameters in solution (**)\n",
        "  k =N(Pow(?,?),n)\n",
        "  p=N((?)/(?),n)\n",
        "  q=N(2*Pow(?,?),n)\n",
        "\n",
        "  sol = (k*(1+p*exp(-q*t)))/(?) # complete encoding of solution\n",
        "  print(\"Diver's motion speed: s(t) = \",sol)\n",
        "  print()\n",
        "  return sol\n"
      ]
    },
    {
      "cell_type": "code",
      "execution_count": null,
      "metadata": {
        "colab": {
          "base_uri": "https://localhost:8080/",
          "height": 90
        },
        "id": "iDF9bhWu8h9N",
        "outputId": "cce6df24-7e73-4d2c-a994-31f8786348a4"
      },
      "outputs": [
        {
          "name": "stdout",
          "output_type": "stream",
          "text": [
            "Diver's motion speed: s(t) =  (6.066 + 1.485*exp(-3.231*t))/(1 - 0.2448*exp(-3.231*t))\n",
            "\n"
          ]
        },
        {
          "data": {
            "text/latex": [
              "$\\displaystyle \\frac{6.066 + 1.485 e^{- 3.231 t}}{1 - 0.2448 e^{- 3.231 t}}$"
            ],
            "text/plain": [
              "(6.066 + 1.485*exp(-3.231*t))/(1 - 0.2448*exp(-3.231*t))"
            ]
          },
          "execution_count": 12,
          "metadata": {},
          "output_type": "execute_result"
        }
      ],
      "source": [
        "# Example\n",
        "\n",
        "find_speed(920,10,25,4)"
      ]
    },
    {
      "cell_type": "code",
      "execution_count": null,
      "metadata": {
        "id": "0Vui-gX5vlcg"
      },
      "outputs": [],
      "source": [
        "# Plotting speed and acceleration in one figure\n",
        "\n",
        "def plot_task(w,s0,C,n):\n",
        "  t = symbols('t')\n",
        "  speed = find_speed(w,s0,C,n)\n",
        "  accel = diff(speed)\n",
        "  p1 = plot(speed,(t,0,1.5),label=\"speed\",show=False, legend=True,size=(4,3))\n",
        "  # fill in the blanks\n",
        "  p2 = plot(?,(t,0,1.5),label=\"?\",show=False, legend=True)\n",
        "  p1.extend(p2)\n",
        "  p1.show()\n"
      ]
    },
    {
      "cell_type": "code",
      "execution_count": null,
      "metadata": {
        "colab": {
          "base_uri": "https://localhost:8080/",
          "height": 342
        },
        "id": "gHliVuZX4tVh",
        "outputId": "02070084-1f10-4fa1-857e-13280a5c56ed"
      },
      "outputs": [
        {
          "name": "stdout",
          "output_type": "stream",
          "text": [
            "Diver's motion speed: s(t) =  (7.832 + 4.589*exp(-2.503*t))/(1 - 0.586*exp(-2.503*t))\n",
            "\n"
          ]
        },
        {
          "data": {
            "image/png": "[encoded data removed]",
            "text/plain": [
              "<Figure size 400x300 with 1 Axes>"
            ]
          },
          "metadata": {},
          "output_type": "display_data"
        }
      ],
      "source": [
        "# Example\n",
        "\n",
        "plot_task(920.,30.,15.,4)"
      ]
    }
  ],
  "metadata": {
    "colab": {
      "provenance": []
    },
    "kernelspec": {
      "display_name": "Python 3 (ipykernel)",
      "language": "python",
      "name": "python3"
    },
    "language_info": {
      "codemirror_mode": {
        "name": "ipython",
        "version": 3
      },
      "file_extension": ".py",
      "mimetype": "text/x-python",
      "name": "python",
      "nbconvert_exporter": "python",
      "pygments_lexer": "ipython3",
      "version": "3.10.9"
    }
  },
  "nbformat": 4,
  "nbformat_minor": 0
}