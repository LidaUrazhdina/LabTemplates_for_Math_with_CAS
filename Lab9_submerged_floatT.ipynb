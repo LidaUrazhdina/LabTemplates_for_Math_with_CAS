{
  "nbformat": 4,
  "nbformat_minor": 0,
  "metadata": {
    "colab": {
      "provenance": []
    },
    "kernelspec": {
      "name": "python3",
      "display_name": "Python 3"
    },
    "language_info": {
      "name": "python"
    }
  },
  "cells": [
    {
      "cell_type": "markdown",
      "source": [
        "## How to use this notebook\n",
        "Any Jupyter Notebook (JN) is made of \"text\" (Markdown) and \"code\" cells. Code cells must be executed to see the result of the program. To run a cell, select it and press Shift + Enter. Using Shift + Enter multiple times will execute consecutive blocks of code one after another, while skipping text cells (executing them does nothing). It is important to run the code cells in the order they appear in the notebook.\n",
        "\n",
        "A complete version of this JN is available by request to instructors using the book \"Exploring mathematics with CAS assistance\" for teaching. This version has blank or partially blank code lines that are supposed to be completed by the user before running the code.\n",
        "\n",
        "Code cells contain (nonexecutable) comments preceded by the pound sign. The comments are of two types:\n",
        "- a short comment placed on a code line typically states what the result of implementation of the encoded operation is\n",
        "- a comment placed on a separate line either names the result of the following block of code lines or provides some details only for the next line where a more involved operation is encoded\n",
        "\n",
        "This JN was written by Lydia Novozhilova.\n",
        "\n"
      ],
      "metadata": {
        "id": "3jJW7XtDu1NB"
      }
    },
    {
      "cell_type": "markdown",
      "source": [
        "# Lab 9: Submergence depth of a body of revolution\n",
        "\n",
        "## Problem formulation\n",
        "Consider a hollow body bounded by an ellipsoid of revolution (for example, a float for measuring fluid level) defined by the equation\n",
        "$$\\frac{x^2}{a^2} + \\frac{y^2}{b^2} + \\frac{z^2}{b^2} = 1.$$\n",
        "\n",
        "Suppose that the body is partially submerged in a fluid of mass density $\\rho_0.$ Let $\\rho$ be the mean mass density of the body. Picture the submergence process as the rising level of fluid. Determine the depth $h$ of submerged part of the body assuming $h\\in (-b,b).$\n",
        "\n",
        "For more details refer to Section 8.3. **Suggestion**:\n",
        "To simplify coding, rewrite the main equation (8.7) representing the Archimedes Principle as\n",
        "$$ \\frac{4c}{3}\\pi ab^2 - V_0 = 0, \\qquad (*)$$\n",
        "where $V_0=V_0(h)$ is the volume of submerged part of the body and $c=\\rho/\\rho_0.$ Note that $0 < c < 1.$\n",
        "\n"
      ],
      "metadata": {
        "id": "NLjZqOjip7yF"
      }
    },
    {
      "cell_type": "markdown",
      "source": [
        "##  Brief summary of this JN contents\n",
        "\n",
        "Function **solve_main_eq** encodes the integrand for the slicing method and uses built-in Sympy function **integrate** to find the symbolic volume of submerged part of the ellipsoid (up to omitted factor $\\pi a b$) as a function of the submergence depth $h$. (This task can be also done manually.) Then it constructs the main equation (*) for submergence depth and finds symbolic solutions of this equation.\n",
        "\n",
        "Function **eval_sols** calls **solve_main_eq** function, substitutes numeric values for parameters $b$ and $c$ and returns three numeric solutions. It can be shown that only one of these solutions meets the requirement $h\\in(-b,b)$ but this claim is not addressed here. The last code cell in this JN gives an example of how to encode selection of list elements satisfying certain condition.\n",
        "\n",
        "The last section suggests a deeper investigation of the main equation for the height of submergence (not in the book). The investigation proves that for physically meaningful data the main equation always has three real roots.\n"
      ],
      "metadata": {
        "id": "gS3t65ywQta8"
      }
    },
    {
      "cell_type": "code",
      "source": [
        "# loading Sympy library\n",
        "from sympy import *\n"
      ],
      "metadata": {
        "id": "gJNOYdjr5jxJ"
      },
      "execution_count": null,
      "outputs": []
    },
    {
      "cell_type": "code",
      "source": [
        "# Constructing and solving the main equation.\n",
        "# The factor pi*a*b present in the lhs of equation (*) is omitted.\n",
        "\n",
        "def solve_main_eq():\n",
        "  \"\"\"\n",
        "  Returns the cubic equation for the height of submergence and three roots of\n",
        "  the equation in symbolic form\n",
        "  \"\"\"\n",
        "  var('z h b c')\n",
        "  integrd=1-?/? # encode integrand for implementing the slicing method\n",
        "  expr = integrate(integrd,(z,-b,h))\n",
        "\n",
        "  # Solving the main equation\n",
        "  eq = ? # encode lhs of equation (*) with omitted factor pi*a*b\n",
        "  print('Main equation for h: ',eq,' = 0')\n",
        "  print()\n",
        "  all_roots=solve(eq,h)\n",
        "  # approximation of numeric values in roots\n",
        "  return [N(s,4) for s in all_roots]\n"
      ],
      "metadata": {
        "id": "Lz5s8w-oVXv6"
      },
      "execution_count": null,
      "outputs": []
    },
    {
      "cell_type": "code",
      "source": [
        "# Test problem.\n",
        "# The roots look scary, but with numberic parameters b, c they will look much better\n",
        "\n",
        "solve_main_eq()"
      ],
      "metadata": {
        "colab": {
          "base_uri": "https://localhost:8080/"
        },
        "id": "4SbzS6LOZL3R",
        "outputId": "67318a05-4027-4606-f699-f67611fb28f5"
      },
      "execution_count": null,
      "outputs": [
        {
          "output_type": "stream",
          "name": "stdout",
          "text": [
            "Main equation for h:  4*b*c/3 - 2*b/3 - h + h**3/(3*b**2)  = 0\n",
            "\n"
          ]
        },
        {
          "output_type": "execute_result",
          "data": {
            "text/plain": [
              "[-0.7937*b**2/(b**3*c - 0.5*b**3 + (-0.25*b**6 + (b**3*c - 0.5*b**3)**2)**0.5)**0.3333 - 1.26*(b**3*c - 0.5*b**3 + (-0.25*b**6 + (b**3*c - 0.5*b**3)**2)**0.5)**0.3333,\n",
              " 0.2646*b**2*(1.5 - 2.598*I)/(b**3*c - 0.5*b**3 + (-0.25*b**6 + (b**3*c - 0.5*b**3)**2)**0.5)**0.3333 + 3.78*(0.1667 + 0.2887*I)*(b**3*c - 0.5*b**3 + (-0.25*b**6 + (b**3*c - 0.5*b**3)**2)**0.5)**0.3333,\n",
              " 0.2646*b**2*(1.5 + 2.598*I)/(b**3*c - 0.5*b**3 + (-0.25*b**6 + (b**3*c - 0.5*b**3)**2)**0.5)**0.3333 + 3.78*(0.1667 - 0.2887*I)*(b**3*c - 0.5*b**3 + (-0.25*b**6 + (b**3*c - 0.5*b**3)**2)**0.5)**0.3333]"
            ]
          },
          "metadata": {},
          "execution_count": 9
        }
      ]
    },
    {
      "cell_type": "code",
      "source": [
        "# Evaluation of symbolic solutions for numeric b and c.\n",
        "\n",
        "def eval_sols(bval,cval):\n",
        "  \"\"\"\n",
        "Args:\n",
        "  bval, cval: values of parameters b, c (floats)\n",
        "Output:\n",
        "  List of numeric approximations of solutions to (*)\n",
        "  \"\"\"\n",
        "  sym_sols=solve_main_eq()\n",
        "  sols=[]\n",
        "  for k in range(3):\n",
        "    temp=sym_sols[k]\n",
        "    # encode evaluation of parameters b and c\n",
        "    temp1=temp.subs([(b,?),(c,?)])\n",
        "    sol=temp1.evalf(3)\n",
        "    sols.append(sol)\n",
        "  print(sols)\n"
      ],
      "metadata": {
        "id": "feTSWc--E6k5"
      },
      "execution_count": null,
      "outputs": []
    },
    {
      "cell_type": "code",
      "source": [
        "# Example 1.\n",
        "# Comment: The extremely small imaginary parts of the roots below is an artifact\n",
        "# stemming from numerical approximations and should be replaced with zeros.\n",
        "eval_sols(2.,0.5)"
      ],
      "metadata": {
        "colab": {
          "base_uri": "https://localhost:8080/"
        },
        "id": "x9y_5swtGEYY",
        "outputId": "ba40a2d9-d558-4d37-96a3-252b96b0e084"
      },
      "execution_count": null,
      "outputs": [
        {
          "output_type": "stream",
          "name": "stdout",
          "text": [
            "Main equation for h:  4*b*c/3 - 2*b/3 - h + h**3/(3*b**2)\n",
            "  \n",
            "[-3.46 + 0.e-10*I, 3.46 - 0.e-11*I, 1.0e-16 - 1.11e-15*I]\n"
          ]
        }
      ]
    },
    {
      "cell_type": "code",
      "source": [
        "#Example 2.\n",
        "eval_sols(0.5,0.3)"
      ],
      "metadata": {
        "colab": {
          "base_uri": "https://localhost:8080/"
        },
        "id": "IEMSdVssSMTs",
        "outputId": "bc8873ba-3c73-4912-bdf1-a68b82c18b82"
      },
      "execution_count": null,
      "outputs": [
        {
          "output_type": "stream",
          "name": "stdout",
          "text": [
            "Main equation for h:  4*b*c/3 - 2*b/3 - h + h**3/(3*b**2)\n",
            "  \n",
            "[-0.79 + 0.e-9*I, 0.926 + 0.e-11*I, -0.137 + 0.e-9*I]\n"
          ]
        }
      ]
    },
    {
      "cell_type": "markdown",
      "source": [
        "## Possible further exploration of the problem (not in the book)\n",
        "\n",
        "The equation for depth of submersion can be written as a *depressed monic cubic* equation. We show that the three roots of this equation are real for all admissible values of the parameter $c$, $c\\in(0,1)$. This is done in the last cell of the notebook.\n",
        "\n",
        "A numerical experimentation with various $c$-values suggests that only one of the three real roots is physically meaningful, that is, lies in the interval $(-b,b).$ Rigorous analysis of this fact is possible, but it is beyond the scope of this lab. In the two examples above, the submergence depths are $0$ (meaning that exactly half of the float is submerged) and about $-0.137$, respectively. This selection of correct depth values is done by visual inspection of the solutions. If needed, a short snippet of code can make such selection automatically. The next cell gives an idea how to construct a sublist of elements satisfying some condition."
      ],
      "metadata": {
        "id": "X114SR1TfOue"
      }
    },
    {
      "cell_type": "code",
      "source": [
        "# Useful code snippet: selecting list values that meet certain condition\n",
        "\n",
        "l = [-3,1,-5,0,-1,2]\n",
        "test = [n for n in l if (0 < n) & (n < 3)]\n",
        "print(test)"
      ],
      "metadata": {
        "colab": {
          "base_uri": "https://localhost:8080/"
        },
        "id": "SLYv8MYNR-K8",
        "outputId": "20c68ff9-3f50-4b18-9a66-a6006d8b2f54"
      },
      "execution_count": null,
      "outputs": [
        {
          "output_type": "stream",
          "name": "stdout",
          "text": [
            "[1, 2]\n"
          ]
        }
      ]
    },
    {
      "cell_type": "markdown",
      "source": [
        "### Claim: For any $c\\in(0,1)$ the main equation has three real roots\n",
        "(This can be transformed into an additional advanced task of the lab)\n",
        "\n",
        "The main equation $4bc/3 - 2b/3 - h + h^3/(3b^2)=0$ written as a monic cubic takes the form\n",
        "$$h^3-3b^2h+2(2c-1)b^3=0.$$\n",
        "\n",
        "Every depressed monic cubic equation $x^3+px+q=0$ defines a point $(p,q)$ in the $pq$-plane. A special curve, called **envelope,**  defined by the equation $4p^3+27q^2=0$ splits the $pq$-plane into two regions. As shown in Section 5.2, any depressed monic cubic equation represented by a point between the branches of the envelope has three real roots.\n",
        "\n",
        "With a fixed parameter $c\\in(0,1)$ and variable parameter $b>0,$ the main equation in this lab defines a parametric curve in the $pq$-plane\n",
        "$$l(c): p=-3b^2,\\ q=2(2c-1)b^3.$$\n",
        "\n",
        "Corresponding explicit equation is\n",
        "$$q=2(2c-1)\\sqrt{-p^3/27}.$$\n",
        "(Note that for $c=1/2$ the curve is just the negative part of the $p$-axis.)\n",
        "\n",
        "Comparing this with the explicit equation of the envelope\n",
        "$$q=\\pm 2\\sqrt{-p^3/27},$$\n",
        "we conclude that for any $c\\in(0,1),$ the curve $l(c)$ lies in the region between the branches of the envelope. Thus, the main equation always has three real roots.\n",
        "\n",
        "The result of this analysis can be nicely visualized as a figure in $pq$-plane with the envelope graph and several curves with points representing the main equation for some interval of $b$-values and various $c$-values.\n",
        "\n"
      ],
      "metadata": {
        "id": "4ZUmBgEAzWAG"
      }
    },
    {
      "cell_type": "code",
      "source": [],
      "metadata": {
        "id": "2xkTl327SrGt"
      },
      "execution_count": null,
      "outputs": []
    }
  ]
}