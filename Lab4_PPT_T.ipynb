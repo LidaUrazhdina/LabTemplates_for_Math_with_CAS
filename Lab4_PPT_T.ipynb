{
  "cells": [
    {
      "cell_type": "markdown",
      "metadata": {
        "id": "lGi2rafCAR-i"
      },
      "source": [
        "## How to use this notebook\n",
        "Any Jupyter Notebook (JN) is made of \"text\" (Markdown) and \"code\" cells. Code cells must be executed to see the result of the program. To run a cell, select it and press Shift + Enter. Pressing Shift + Enter multiple times will execute consecutive blocks of code one after another, while skipping text cells (executing them does nothing). It is important to run the code cells in the order they appear in the notebook.\n",
        "\n",
        "A complete version of this JN is available by request to instructors using the book \"Exploring mathematics wth CAS assistance\" for teaching. This version has blank or partially blank code lines that are supposed to be completed by the user before running the code.\n",
        "\n",
        "Code cells include (nonexecutable) comments preceded by the pound sign. The comments are of two types:\n",
        "- a short comment placed on a code line typically states what the result of execution of the encoded operation is\n",
        "- a comment placed on a separate line states either the result of the following block of code lines or provides some details only for the next line where a more involved operation is encoded\n",
        "\n",
        "The code is written by Lydia Novozhilova. Senan Hayes contributed to writing text cells and proofreading, editing, and fruitful discussion of this document.\n"
      ]
    },
    {
      "cell_type": "markdown",
      "metadata": {
        "id": "QfDxoTGp1KS9"
      },
      "source": [
        "# Lab 4: Plotting legs of primitive Pythagorean triples (PPTs)\n",
        "## Problem formulation\n",
        "It is known that legs $a,\\,b$ of any PPT are coprime numbers that can be defined as\n",
        "$$\n",
        "a=n^2-m^2,\\ b=2mn\n",
        "$$\n",
        "with even $n$  and certain odd $m < n$. Geometrically, pairs $(a,b)$ are images of points $x=n,\\, y=m$ in $xy$-plane under the mapping\n",
        "$$(x,y)\\mapsto (x^2-y^2,2xy).$$\n",
        "\n",
        "Do the following:\n",
        "- Make a function that takes an integer $N$ and\n",
        "returns a figure of all PPTs defined by even values $n\\le 2N$ and admissible $m$-values. Plot corresponding points $(a,b).$\n",
        "-There are some patterns in the points distribution. In fact, at least three types of curves passing through points depicting Pythagorean legs can be found: Images of vertical lines $x=n,$ images of horizontal lines $y=m,$ and images of lines with slope one passing through some point with integer coordinates $(n,m),\\,m < n$ of different parity with $n$ being even. Manually derive the explicit equations of these curves and make a figure including two particular curves of each type.\n",
        "\n",
        "For more details related to Pythagorean triples read Section 4.3. A slightly different version of this lab can be found in Section 4.4.\n",
        "\n",
        "### Comment\n",
        "There is only one help function **make_PPT** in this JN. List comprehension operators for constructing *nlist* and *mlist* in this function body might look tricky. Manual experimentation with concrete data would clarify how the operators work."
      ]
    },
    {
      "cell_type": "code",
      "execution_count": null,
      "metadata": {
        "id": "UjR8-k1GvbBX"
      },
      "outputs": [],
      "source": [
        "import matplotlib.pyplot as plt\n",
        "import math\n",
        "\n",
        "\n",
        "# Help function: Finding all PPTs with n<=2N\n",
        "def makePPT(N):\n",
        "  \"\"\"\n",
        "  Args:\n",
        "    N: positive integer\n",
        "  Output:\n",
        "    List of all PPTs with n<=2N\n",
        "  \"\"\"\n",
        "  # list comprehension of even values from 2 to 2N.\n",
        "  nlist=[2*k+2 for k in range(?)] # fill in the blank\n",
        "\n",
        "  # constructing list of PPT legs\n",
        "  S = []\n",
        "  for k in range(N):\n",
        "    n=nlist[k]\n",
        "    # Finding admissible m-values for given n\n",
        "    # list comprehension of all odd m<n\n",
        "    mlist=[? for l in range(n//2)] # fill in the blank\n",
        "    for m in mlist:\n",
        "      # verifying that a,b are coprime\n",
        "      a,b = [n**2-m**2,2*n*m]\n",
        "      if math.gcd(a,b)==?: # fill in the blank\n",
        "        S.append([a,b])\n",
        "  return S\n",
        "\n"
      ]
    },
    {
      "cell_type": "code",
      "execution_count": null,
      "metadata": {
        "colab": {
          "base_uri": "https://localhost:8080/"
        },
        "id": "-3JuhALltzHt",
        "outputId": "62216c45-4e0f-4859-e9d8-81e0c51f1f06"
      },
      "outputs": [
        {
          "data": {
            "text/plain": [
              "[[3, 4],\n",
              " [15, 8],\n",
              " [7, 24],\n",
              " [35, 12],\n",
              " [11, 60],\n",
              " [63, 16],\n",
              " [55, 48],\n",
              " [39, 80],\n",
              " [15, 112]]"
            ]
          },
          "execution_count": 5,
          "metadata": {},
          "output_type": "execute_result"
        }
      ],
      "source": [
        "# Example\n",
        "makePPT(4)\n"
      ]
    },
    {
      "cell_type": "code",
      "execution_count": null,
      "metadata": {
        "id": "ea6H0Lbgt5Xu"
      },
      "outputs": [],
      "source": [
        "# Main function\n",
        "def plot_PPT(N,tlt,fig_size,c):\n",
        "  '''\n",
        "  Args:\n",
        "    N: positive integer\n",
        "    ttl: title (string)\n",
        "    fig_size: 2-tuple\n",
        "    c: point marker color (string)\n",
        "  Output:\n",
        "    Plot of all PPT legs defined by even values n<=2N and acceptable m<n\n",
        "  '''\n",
        "  fig = plt.figure(figsize = fig_size)\n",
        "  plt.title(tlt)\n",
        "  L=makePPT(N) # list of PPT legs [a,b]\n",
        "  # split list L of [a,b] pairs into a-list and b-list\n",
        "  a,b =[? for p in ?],[? for p in ?] # fill in the blanks\n",
        "  # plot PPT legs\n",
        "  plt.scatter(a, b, color=c,s=8) # s specifies marker size\n"
      ]
    },
    {
      "cell_type": "code",
      "execution_count": null,
      "metadata": {
        "colab": {
          "base_uri": "https://localhost:8080/",
          "height": 314
        },
        "id": "43GtqtEWoMKy",
        "outputId": "06219973-bdbb-4abc-9a4a-2631347b9537"
      },
      "outputs": [
        {
          "data": {
            "image/png": "[encoded data removed]",
            "text/plain": [
              "<Figure size 300x300 with 1 Axes>"
            ]
          },
          "metadata": {},
          "output_type": "display_data"
        }
      ],
      "source": [
        "# Example (N=20)\n",
        "\n",
        "plot_PPT(20,'PPT legs for N=20',(3,3),'blue')"
      ]
    },
    {
      "cell_type": "markdown",
      "metadata": {
        "id": "y8xhVoGvtK6b"
      },
      "source": [
        "# Exploration of the mapping $(n,m)\\mapsto (n^2-m^2,2mn)$\n",
        "## Suggested directions for the second task of the lab\n",
        "The goal of the task is to derive explicit equations of continuous objects -- curves. Consider a continuous version of this mapping $(x,y) \\mapsto (u,v)$ with\n",
        "$$u=x^2-y^2,\\qquad v=2xy.\\qquad     (*)$$ Notice that this mapping can be writtern in the complex form  as $z\\mapsto w$ with $z=x+iy, w=z^2\\equiv u+iv.$\n",
        "\n",
        "Vertical lines $x=n$ in $xy$-plane are mapped to curves of one type. Horizontal lines $y=m$ are mapped to curves of another type. Slanted lines passing through a point $(n,n-k)$ with fixed odd $k < n$ and slope one are mapped to curves of the third type. The formula (*) gives parametric equations of these lines in $uv$-plane with parameters $y$ for curves of the first type and $x$ for curves of the second and third types. Excluding parameters, one will obtain required explicit equations.\n",
        "\n",
        "The code in the next cell produces a figure with one curve of each type superimposed on a certain PPT figure. Manually derive explicit equations for a second triple of the curves and modify the code to complete the task.\n",
        "\n",
        "### Comment\n",
        "Note that at the intersection point the red and blue curves in the figure produced by the code in the next cell look perpendicular, that is, have perpendicular tangent lines. In fact, this is true. It is known from complex analysis that \"nice\" complex functions (and $z\\mapsto z^2$ is nice in that sense) preserve angles between curves. In the setting of this part of the lab, the red and blue curves are images of lines $x=const,\\ y=const,$ and the two lines are obviously perpendicular.   \n"
      ]
    },
    {
      "cell_type": "code",
      "execution_count": null,
      "metadata": {
        "colab": {
          "base_uri": "https://localhost:8080/",
          "height": 368
        },
        "id": "HoOkrCuhmf4l",
        "outputId": "c6ef9082-471c-422b-faa4-0cb83489dd94"
      },
      "outputs": [
        {
          "data": {
            "image/png": "[encoded data removed]",
            "text/plain": [
              "<Figure size 300x400 with 1 Axes>"
            ]
          },
          "metadata": {},
          "output_type": "display_data"
        }
      ],
      "source": [
        "# Three specific curves showing patterns in Pythagorean triples. Ranges for\n",
        "# independent variable u are adjusted for rendering a better figure.\n",
        "import numpy as np\n",
        "\n",
        "fig = plt.figure(figsize = (3,4))\n",
        "plt.axis('equal')\n",
        "\n",
        "u = np.linspace(1,256, 50)\n",
        "# equation for a curve of type 1\n",
        "# x=n for specific n-value; y is excluded from parametric equations (*) of the curve\n",
        "v1 = 32*(256-u)**0.5\n",
        "plt.plot(u,v1,color='red')\n",
        "\n",
        "u = np.linspace(4,350, 50)\n",
        "# equation for a curve of type 2\n",
        "# y=m for specific m-value, x is excluded from parametric equations (*) of the curve\n",
        "v2 = 10*(25+u)**0.5\n",
        "plt.plot(u,v2,color='blue')\n",
        "\n",
        "u = np.linspace(20,120,50)\n",
        "# equation for a curve of type 3\n",
        "# y=x-k for specific odd k-value; x is excluded from parametric equations (*) of the curve\n",
        "v3 = (u**2-81)/18\n",
        "plt.plot(u,v3,color='green')\n",
        "\n",
        "L=makePPT(10)\n",
        "u,v =[p[0] for p in L],[p[1] for p in L]\n",
        "plt.scatter(u,v,color='purple',s=8)\n",
        "plt.show()"
      ]
    },
    {
      "cell_type": "code",
      "execution_count": null,
      "metadata": {
        "id": "OQ9OmjOvoTuv"
      },
      "outputs": [],
      "source": []
    }
  ],
  "metadata": {
    "colab": {
      "provenance": []
    },
    "kernelspec": {
      "display_name": "Python 3 (ipykernel)",
      "language": "python",
      "name": "python3"
    },
    "language_info": {
      "codemirror_mode": {
        "name": "ipython",
        "version": 3
      },
      "file_extension": ".py",
      "mimetype": "text/x-python",
      "name": "python",
      "nbconvert_exporter": "python",
      "pygments_lexer": "ipython3",
      "version": "3.10.9"
    }
  },
  "nbformat": 4,
  "nbformat_minor": 0
}