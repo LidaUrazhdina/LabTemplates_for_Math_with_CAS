{
  "nbformat": 4,
  "nbformat_minor": 0,
  "metadata": {
    "colab": {
      "provenance": []
    },
    "kernelspec": {
      "name": "python3",
      "display_name": "Python 3"
    },
    "language_info": {
      "name": "python"
    }
  },
  "cells": [
    {
      "cell_type": "markdown",
      "source": [
        "## How to use this notebook\n",
        "Any Jupyter Notebook (JN) is made of \"text\" (Markdown) and \"code\" cells. Code cells must be executed to see the result of the program. To run a cell, select it and press Shift + Enter. Using Shift + Enter multiple times will execute consecutive blocks of code one after another, while skipping text cells (executing them does nothing). It is important to run the code cells in the order they appear in the notebook.\n",
        "\n",
        "A complete version of this JN is available by request to instructors using the book \"Exploring mathematics with CAS assistance\" for teaching. This version has blank or partially blank code lines that are supposed to be completed by the user before running the code.\n",
        "\n",
        "Code cells contain (nonexecutable) comments preceded by the pound sign. The comments are of two types:\n",
        "- a short comment placed on a code line typically states what the result of implementation of the encoded operation is\n",
        "- a comment placed on a separate line either names the result of the following block of code lines or provides some details only for the next line where a more involved operation is encoded\n",
        "\n",
        "The JN was written by Lydia Novozhilova.\n",
        "\n",
        "\n"
      ],
      "metadata": {
        "id": "3jJW7XtDu1NB"
      }
    },
    {
      "cell_type": "markdown",
      "source": [
        "# Lab 8: Constructing a square circumscribed about ellipse\n",
        "\n",
        "## Problem formulation\n",
        "Consider a rectangle circumscribed about ellipse with semi-axes $a,\\,b.$ The rectangle is moving counterclockwise adjusting its side lengths to stay circumscribed about the ellipse. (Use the link below to see a snapshot of this process.) Assume that the red side of the rectangle preserves its color in this process.\n",
        "\n",
        "https://drive.google.com/file/d/1e3PoQTtWkdcizlNUMDvQlJeFRDmtXGcU/view?usp=sharing\n",
        "\n",
        "Find the slope of the red side when the rectangle becomes square. Make a figure with the square and the ellipse.\n",
        "\n",
        "For more details and suggested method for the problem solution refer to Section 7.4. Next cell also provides some hints for implementation of this method."
      ],
      "metadata": {
        "id": "4VCdMt2duliE"
      }
    },
    {
      "cell_type": "markdown",
      "source": [
        "### Suggestion for manual reparametrization\n",
        "Derive a reparametrization of the ellipse using the *slope of the tangent* as a new parameter. In this parametrization every point of ellipse is treated as a tangency point of the tangent line passing through this point. Note that the points $(\\pm 1,0)$ will not be covered by this parametrization.\n",
        "\n",
        "**Notation:**\n",
        "- $s$: slope of a tangent to ellipse at a generic point\n",
        "- $x=x(s),y=y(s)$: parametric equation of ellipse with $s$ being the slope of tangent passing through a point $(x,y).$\n",
        "\n",
        "**Hints**\n",
        "- The slopes of tangents to ellipse are positive in quadrants II and IV and negative in quadrants I and III. As a result, the new parametric equations will be given by piecewise-defined functions.\n",
        "- To manually find the reparametrization of ellipse start with the standard formulas $x=a\\cos(t),\\,y=b\\sin(t)$ and recall from calculus that the slope of a parametric curve is $s=y'(t)/x'(t)$. For the ellipse, this relation takes the form\n",
        "$$s = -\\frac{b}{a}\\cot(t).$$\n",
        "Then express $\\sin(t),\\,\\cos(t)$ in terms of the slope $s$ using the trig formulas\n",
        "$$1+\\cot^2(t)=1/\\sin^2(t),\\ \\sin^2(t)+\\cos^2(t)=1.$$\n",
        "Notice that sign of sine and cosine functions depend on the quadrant where the tangency point is located.\n",
        "- Show that the tangency points of the opposite sides of circumscribed rectangle are symmetric with respect to the origin."
      ],
      "metadata": {
        "id": "cFbdMX_R0YWH"
      }
    },
    {
      "cell_type": "markdown",
      "source": [
        "# Brief description of this JN contents\n",
        "### Help functions\n",
        "- **tan_pts** encodes manually derived coordinates of the tangency points lying on all sides of the circumscribed rectangle in terms of $m,$ the slope of the tangent on the red side.\n",
        "- **intersect_lines** finds the intersection of two lines defined by the point-slope equations in the form $y-s\\cdot x =yval-s\\cdot xval.$ Here $(xval, yval)$ is a point lying on a line, and $s$ is the line slope. This function is an alternative to the Cramer's Rule encoded in Lab 3.\n",
        "- **vertices** finds the vertices coordinates of circumscribed rectangle in a generic position.\n",
        "\n",
        "The main function **make_plot** calls help functions when needed and returns a figure with ellipse and the circumscribed rectangle or square defined by the user input (the slope $m$ of the red side).\n",
        "\n",
        "**Special feature**\n",
        "\n",
        "The function **intersect_lines** uses built-in Numpy function **linalg.inv(A).dot(B)** that solves the determinate system $AX=B.$ The function implements dot product for each row of $A^{-1}$ and vector $B.$\n"
      ],
      "metadata": {
        "id": "8kmXul0Lnwjb"
      }
    },
    {
      "cell_type": "code",
      "source": [
        "# Loading libraries\n",
        "from sympy import *\n",
        "import numpy as np\n",
        "import matplotlib.pyplot as plt\n"
      ],
      "metadata": {
        "id": "s8VdLI7d2VNi"
      },
      "execution_count": null,
      "outputs": []
    },
    {
      "cell_type": "code",
      "source": [
        "# Points of tangency in all four quadrants in terms of a, b and symbolic (unspecified)\n",
        "# slope m. Hint: You will need the relation between slopes of two perpendicular lines\n",
        "\n",
        "def tan_pts(a,b):\n",
        "  \"\"\"\n",
        "  Args:\n",
        "    a,b: parameters defining ellipse\n",
        "  Output:\n",
        "    pts: list of coordinates for corresponding tangency points on the sides of\n",
        "    rectangle circumscribed about ellipse. Needs user input for the points in quadrants IV and I.\n",
        "  \"\"\"\n",
        "  var('m')\n",
        "  # encode list of coordinates of a generic tangency point on the red side\n",
        "  ptA = [?,?]\n",
        "\n",
        "  # encode list of coordinates of a generic tangency point in quadrant I\n",
        "  ptB = [?,?]\n",
        "\n",
        "  # coordinates of tangency points A, B, C, D (using manually discovered symmetry)\n",
        "  pts=[ptA,ptB,[?,?],[?,?]]\n",
        "  return pts"
      ],
      "metadata": {
        "id": "X3Kxj4muu613"
      },
      "execution_count": null,
      "outputs": []
    },
    {
      "cell_type": "code",
      "source": [
        "# Example\n",
        "tan_pts(4,2)"
      ],
      "metadata": {
        "colab": {
          "base_uri": "https://localhost:8080/"
        },
        "id": "SWgSan6Gq07g",
        "outputId": "848d8095-f3d7-4375-caa2-f172d5c4d56a"
      },
      "execution_count": null,
      "outputs": [
        {
          "output_type": "execute_result",
          "data": {
            "text/plain": [
              "[[16*m/(16*m**2 + 4)**0.5, -4/sqrt(16*m**2 + 4)],\n",
              " [16/(4*m**2 + 16)**0.5, 4*m/(4*m**2 + 16)**0.5],\n",
              " [-16*m/(16*m**2 + 4)**0.5, 4/sqrt(16*m**2 + 4)],\n",
              " [-16/(4*m**2 + 16)**0.5, -4*m/(4*m**2 + 16)**0.5]]"
            ]
          },
          "metadata": {},
          "execution_count": 2
        }
      ]
    },
    {
      "cell_type": "code",
      "source": [
        "# Help function: Solving the system of equations of two lines.\n",
        "\n",
        "def intersect_lines(p,q,slp):\n",
        "  \"\"\"\n",
        "  Args:\n",
        "    p,q: points on the lines (lists of coordinates)\n",
        "    slp: list of two slopes\n",
        "  Output:\n",
        "    Intesection point of two lines defined by p, slp[0] and q, slp[1]\n",
        "  \"\"\"\n",
        "  var('y')\n",
        "  var('x')\n",
        "  # Array of linear system matrix\n",
        "  sys_matrix =[[-slp[0],1],[?,?]] # encode the second row of the system matrix\n",
        "  A = np.array(sys_matrix) # conversion of matrix to array\n",
        "\n",
        "  # Array of rhs of linear system\n",
        "  rhs = [p[1]-slp[0]*p[0],?] # encode the second element of the rhs vector\n",
        "  B=np.array(rhs) # conversion of rhs list into array\n",
        "\n",
        "  # intersection point\n",
        "  intersection_pt = np.linalg.inv(A).?(B) # fill in the blank\n",
        "  return intersection_pt"
      ],
      "metadata": {
        "id": "ikgtSgklY52B"
      },
      "execution_count": null,
      "outputs": []
    },
    {
      "cell_type": "code",
      "source": [
        "# Example\n",
        "intersect_lines([1,2],[-2,0],[1,-1])"
      ],
      "metadata": {
        "colab": {
          "base_uri": "https://localhost:8080/"
        },
        "id": "aHK7itrYaSjI",
        "outputId": "e5542be6-27b8-4bc8-a377-27ab20155ee5"
      },
      "execution_count": null,
      "outputs": [
        {
          "output_type": "execute_result",
          "data": {
            "text/plain": [
              "array([-1.5, -0.5])"
            ]
          },
          "metadata": {},
          "execution_count": 4
        }
      ]
    },
    {
      "cell_type": "code",
      "source": [
        "# Help function: Finding list of vertices of circumscribed rectangle in\n",
        "# counterclock direction\n",
        "\n",
        "def vertices(a,b,mval):\n",
        "  \"\"\"\n",
        "  Args:\n",
        "    Parameters a,b of ellipse\n",
        "    Positive float mval -- slope of red side\n",
        "  Output:\n",
        "    Vertices of the circumscribed rectangle defined by mval\n",
        "  \"\"\"\n",
        "  pts = tan_pts(a,b) # tangency points coordinates as functions of m\n",
        "\n",
        "  # Finding all numeric tangency points coordinates for given m=mval\n",
        "  p=[]\n",
        "  for k in range(4):\n",
        "    # encode evaluation of second coordinate of kth point\n",
        "    temp = [pts[k][0].subs(m,mval),?]\n",
        "    p.append(temp)\n",
        "  p.append(p[0]) # needed to find 4th vertex\n",
        "\n",
        "  # encode numeric slopes of three rectangle sides\n",
        "  s=[mval,?,?,?,mval] # the red side slope is appended\n",
        "\n",
        "  # Rectangle vertices\n",
        "  verts =[]\n",
        "  for k in range(4):\n",
        "    temp = intersect_lines(p[k],p[k+1],[s[k],s[k+1]])\n",
        "    verts.append(temp)\n",
        "  return verts\n"
      ],
      "metadata": {
        "id": "VUr-etY_6HoM"
      },
      "execution_count": null,
      "outputs": []
    },
    {
      "cell_type": "code",
      "source": [
        "# Example\n",
        "vertices(4,2,0.5)"
      ],
      "metadata": {
        "colab": {
          "base_uri": "https://localhost:8080/"
        },
        "id": "wytwHMI0r_Us",
        "outputId": "defcf52e-4686-4831-90f0-7a2509962893"
      },
      "execution_count": null,
      "outputs": [
        {
          "output_type": "execute_result",
          "data": {
            "text/plain": [
              "[array([4.42985535039260, -0.613499449549888], dtype=object),\n",
              " array([2.16711365059565, 3.91198395004402], dtype=object),\n",
              " array([-4.42985535039260, 0.613499449549888], dtype=object),\n",
              " array([-2.16711365059565, -3.91198395004402], dtype=object)]"
            ]
          },
          "metadata": {},
          "execution_count": 6
        }
      ]
    },
    {
      "cell_type": "markdown",
      "source": [
        "**Hints for finding the rectangle dimentions $\\boldsymbol{w},\\boldsymbol{h}$ as functions of $\\boldsymbol{m}$ and manually solving equation** $\\boldsymbol{h}=\\boldsymbol{w}$\n",
        "\n",
        "- Each dimension can be found using the formula for distance from a point to a line. For example, to find $h$ one can use equation of the red line $y-mx+mx_A-y_A=0$ to obtain\n",
        "$$h = |y_C-mx_C+ mx_A-y_A|/\\sqrt{1+m^2}.$$\n",
        "- Similar formula leads to an expression for $w.$ Simplifying the expression in such a way that the denominator becomes the same as in the formula for $h$, one can then drop the denominators in the equation $h=w.$\n",
        "- Using relations between coordinates of the points of tangency for any circumscribed rectangle (see function **tan_pts**), one can simplify the equation further and solve it for $m.$ If the calculation is done correctly, the user will get a surprise: the slope does not depend on the semi-axes of ellipse!"
      ],
      "metadata": {
        "id": "_Pn5oVAREXrS"
      }
    },
    {
      "cell_type": "code",
      "source": [
        "# Main function: Making the required figure\n",
        "# Suggestion: Using figure size with different dimensions for plotting a rectangle\n",
        "# and with equal dimensions for plotting a square would prevent angle distortion.\n",
        "\n",
        "def make_plot(a,b,mval):\n",
        "  \"\"\"\n",
        "  Args:\n",
        "    a,b: semi-axes of ellipse\n",
        "    mval: slope of the red side of circumscribed rectangle\n",
        "  Output:\n",
        "    figure with plots of ellipse and circumscribed rectangle\n",
        "  \"\"\"\n",
        "  # Set up parameteres of figure\n",
        "  ax = plt.figure()\n",
        "  fig_size = input(\"Please enter the figsize (two reals separated by comma): \")\n",
        "  plt.rcParams['figure.figsize'] = fig_size\n",
        "\n",
        "  # Plot the ellipse\n",
        "  theta = np.linspace(0, 2 * np.pi, 100)\n",
        "  x = a * np.cos(theta)\n",
        "  y = ? # encode formula for y-coordinate\n",
        "  plt.plot(x, y)\n",
        "\n",
        "  # Plot the rectangle/square\n",
        "  verts = vertices(a,b,mval)\n",
        "  verts.append(verts[0]) # needed to create a closed loop (rectangle)\n",
        "  xs, ys = zip(*verts) # lists of x- and y-coordinates of vertices\n",
        "  plt.plot(xs,ys,color='green')\n",
        "  # encode index of the second vertex of the red side\n",
        "  plt.plot([xs[0],xs[?]],[ys[0],ys[?]],color='red')# coloring the base side\n",
        "  plt.show()\n",
        "\n",
        "\n"
      ],
      "metadata": {
        "id": "g5jd1WK9I9ou"
      },
      "execution_count": null,
      "outputs": []
    },
    {
      "cell_type": "code",
      "source": [
        "# Example\n",
        "make_plot(4,1,0.5)\n"
      ],
      "metadata": {
        "colab": {
          "base_uri": "https://localhost:8080/",
          "height": 231
        },
        "id": "SXcr7yCCWE74",
        "outputId": "653f2b4d-994f-4d88-c8e1-d592ac1eb7c1"
      },
      "execution_count": null,
      "outputs": [
        {
          "name": "stdout",
          "output_type": "stream",
          "text": [
            "Please enter the figsize (two numbers separated by comma): 3.,2.\n"
          ]
        },
        {
          "output_type": "display_data",
          "data": {
            "text/plain": [
              "<Figure size 300x200 with 1 Axes>"
            ],
            "image/png": "[encoded data removed]"
          },
          "metadata": {}
        }
      ]
    },
    {
      "cell_type": "code",
      "source": [
        "make_plot(4.,2.,m*) # replace m* by the slope of the red size for circumscribed square"
      ],
      "metadata": {
        "colab": {
          "base_uri": "https://localhost:8080/",
          "height": 308
        },
        "id": "XFOJCyvTVX-4",
        "outputId": "7cadbd24-0fa3-4cbf-eddd-97b382d52c00"
      },
      "execution_count": null,
      "outputs": [
        {
          "name": "stdout",
          "output_type": "stream",
          "text": [
            "Please enter the figsize (two numbers separated by comma): 4,4\n"
          ]
        },
        {
          "output_type": "display_data",
          "data": {
            "text/plain": [
              "<Figure size 300x300 with 1 Axes>"
            ],
            "image/png": "[encoded data removed]"
          },
          "metadata": {}
        }
      ]
    },
    {
      "cell_type": "code",
      "source": [
        "# Useful web page: https://docs.sympy.org/latest/modules/plotting.html\n",
        "\n"
      ],
      "metadata": {
        "id": "JV8O_UyeJieM"
      },
      "execution_count": null,
      "outputs": []
    },
    {
      "cell_type": "markdown",
      "source": [
        "## Possible extra task\n",
        "Make a function that takes parameters $a,\\,b$ and plots the graph of the area of the circumscribed rectangle as a function of the slope $m$."
      ],
      "metadata": {
        "id": "KXwsiwUBjVrL"
      }
    }
  ]
}