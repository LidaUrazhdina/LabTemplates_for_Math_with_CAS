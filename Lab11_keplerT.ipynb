{
  "nbformat": 4,
  "nbformat_minor": 0,
  "metadata": {
    "colab": {
      "provenance": []
    },
    "kernelspec": {
      "name": "python3",
      "display_name": "Python 3"
    },
    "language_info": {
      "name": "python"
    }
  },
  "cells": [
    {
      "cell_type": "markdown",
      "source": [
        "## How to use this notebook\n",
        "Any Jupyter Notebook (JN) is made of \"text\" (Markdown) and \"code\" cells. Code cells must be executed to see the result of the program. To run a cell, select it and press Shift + Enter. Using Shift + Enter multiple times will execute consecutive blocks of code one after another, while skipping text cells (executing them does nothing). It is important to run the code cells in the order they appear in the notebook.\n",
        "\n",
        "A complete version of this JN is available by request to instructors using the book \"Exploring mathematics with CAS assistance\" for teaching. This version has blank or partially blank code lines that are supposed to be completed by the user before running the code.\n",
        "\n",
        "Code cells contain (nonexecutable) comments preceded by the pound sign. The comments are of two types:\n",
        "- a short comment placed on a code line typically states what the result of implementation of the encoded operation is\n",
        "- a comment placed on a separate line either names the result of the following block of code lines or provides some details only for the next line where a more involved operation is encoded\n",
        "\n",
        "This JN was written by Lydia Novozhilova.\n",
        "\n",
        "\n"
      ],
      "metadata": {
        "id": "3jJW7XtDu1NB"
      }
    },
    {
      "cell_type": "markdown",
      "source": [
        "# Lab 11: Kepler's equation and Kepler's Second Law\n",
        "### Kepler's Second Law:\n",
        "**A line joining a planet and the Sun sweeps out equal areas durung equal intervals of time**.\n",
        "\n",
        "### Kepler's equation:\n",
        "$$ m(t)+e\\cdot \\sin\\big(E(t)\\big)-E(t) = 0.\\qquad (*)$$\n",
        "Here\n",
        "- $e$: eccentricity of the elliptic orbit of planet\n",
        "- $m(t) = 2\\pi t/T$: mean anomaly\n",
        "- $T$: orbital period\n",
        "- $E(t)$: eccentric anomaly (see the explanation of the term on p 138)\n",
        "\n",
        "## Problem formulation\n",
        "Consider a planet orbiting around the Sun with period $T$ along the ellipse defined by parameters $a,\\,e.$ Do the following.\n",
        "- Make a function that shows that at $n$ equal time intervals of duration $T/n$ the planet sweeps out *approximately* (due to rounding) equal areas. Hint: Use parametric equation of the elliptic orbit in the form $x=a\\cos\\big(E(t)\\big),\\,y=b\\sin\\big(E(t)\\big).$\n",
        "- Make a function that takes parameters $a,\\,e,\\,T,\\,n$ and plots a figure similar to Fig. 9.9 in the book.\n",
        "\n",
        "For more details see Section 9.3."
      ],
      "metadata": {
        "id": "SxFnZ3OhWuOA"
      }
    },
    {
      "cell_type": "markdown",
      "source": [
        "## Brief description of this JN contents\n",
        "\n",
        "### Help functions:\n",
        "\n",
        "- **my_newton** implements a version of Newton-Raphson method to find approximation of solution to equation $f(x)=0.$ As a stopping criterion, the code uses condition $|f(x)|<\\epsilon$ for a small parameter $\\epsilon.$\n",
        "- **solve_kepler** calls **my_newton** function to solve Kepler's equation. Values $m(t_k)$ of the mean anomaly are used as initial values for the function **my_newton**. (Here $t_k$ are end points of equal time intervals.)\n",
        "- **find_angles** finds polar angles of planet positions at times $t_k.$\n",
        "- **find_area** calculates area of a subregion of ellipse enclosed between polar radii of two points on the ellipse.\n",
        "\n",
        "The function **main** returns list of areas of subregions swept out by the planet during $n$ equal-time intervals. The function **plot_figure** plots the figure required by the problem formulation.\n",
        "### Special features\n",
        "- Function **lambdify.** The primary purpose of this Sympy function is to provide a bridge from Sympy expressions to numerical libraries, such as NumPy, SciPy, etc. The **lambdify** function accelerates the code implementation. In the Sympy implementation of help function **my_newton** the inputs *f* and *fprime* must be functions, not expressions. Therefore, before calling this help function, the function **lambdify** is applied to the expression in the left-hand side of Kepler's equation and to the derivative of this expression with respect to the variable $E$ converting the two expressions into functions.\n",
        "\n",
        "Useful ink: https://docs.sympy.org/latest/modules/utilities/lambdify.html.\n",
        "\n",
        "- **Global variables.**\n",
        "To make a variable created in some function available outside this function, one can use the keyword **global**. The **global** method is applied to three variables in the function **main** which are used then in the function **plot_figure**.\n",
        "\n",
        "\n",
        "\n"
      ],
      "metadata": {
        "id": "XTwEXYAA-iqk"
      }
    },
    {
      "cell_type": "code",
      "source": [
        "# Loading libraries\n",
        "from sympy import *\n",
        "import numpy as np\n",
        "import matplotlib.pyplot as plt\n"
      ],
      "metadata": {
        "id": "Q2EqvPnS3ary"
      },
      "execution_count": null,
      "outputs": []
    },
    {
      "cell_type": "code",
      "source": [
        "# Help function: Newton's method for solving equation f(x)=0.\n",
        "# It is important that f and fprime are functions, not expressions\n",
        "\n",
        "def my_newton(xini,eps, f,fprime):\n",
        "  \"\"\"\n",
        "  Args:\n",
        "    f,fprime: function and its derivative function\n",
        "    xini: initial approximation of function f zero\n",
        "    eps: parameter used in stopping condition\n",
        "  Output:\n",
        "    Approximation of solution to equation f(x)=0\n",
        "  \"\"\"\n",
        "  var('x')\n",
        "  x=xini\n",
        "  res=np.abs(f(x))\n",
        "  while res>eps:\n",
        "    x=x-f(x)/? # complete encoding of formula for Newton's method\n",
        "    res=np.abs(f(x))\n",
        "  return x\n"
      ],
      "metadata": {
        "id": "uh6OG8Ololxb"
      },
      "execution_count": null,
      "outputs": []
    },
    {
      "cell_type": "code",
      "source": [
        "# Help function: Solving Kepler's equation.\n",
        "\n",
        "def solve_kepler(n,k,e,eps):\n",
        "  \"\"\"\n",
        "  Args:\n",
        "    n: number of subdivisions of ellipse\n",
        "    k: index of kth time value t_k\n",
        "    eps: parameter used in stopping condition\n",
        "  Output:\n",
        "    Eval: approximation of parameter E for kth position of the planet\n",
        "  \"\"\"\n",
        "  var('E')\n",
        "  # Since t_k=k*T/n, m(t_k)=2pi*t_k/T=2pi*k/n\n",
        "  # encode mean anomaly value at t=t_k\n",
        "  mval = ?\n",
        "  iniE = mval # initial guess for Newton's method\n",
        "  expr1 = ? # encode lhs of (*) for t=t_k\n",
        "  f_fcn = lambdify(E, expr1, 'numpy')\n",
        "  expr2 = ? # encode the derivative d(expr1)/dE\n",
        "  f_der = lambdify(E, expr2, 'numpy')\n",
        "  Eval = my_newton(iniE,eps, f_fcn,f_der)\n",
        "  return Eval\n"
      ],
      "metadata": {
        "id": "Lx1jbcGB-sqT"
      },
      "execution_count": null,
      "outputs": []
    },
    {
      "cell_type": "code",
      "source": [
        "#Examples\n",
        "eval=solve_kepler(10.,10,0.7,0.001)\n",
        "print(eval)"
      ],
      "metadata": {
        "id": "t9W3avuAbaqI",
        "colab": {
          "base_uri": "https://localhost:8080/"
        },
        "outputId": "912d4e4a-bf9f-4082-eb9e-391448147a96"
      },
      "execution_count": null,
      "outputs": [
        {
          "output_type": "stream",
          "name": "stdout",
          "text": [
            "6.283185307179586\n"
          ]
        }
      ]
    },
    {
      "cell_type": "code",
      "source": [
        "# Help function: Polar angles of positions (formula (9.5), p 139.)\n",
        "\n",
        "def find_angles(c,pos):\n",
        "  \"\"\"\n",
        "  Args:\n",
        "    c: x-coordinate of the right focus of the orbit\n",
        "    pos: list of rectangular coordinates of planet positions\n",
        "  Output:\n",
        "    list of polar angles of planet positions\n",
        "  \"\"\"\n",
        "  L =[np.pi-atan(p[1]/(c-p[0])) for p in pos]\n",
        "  L[0] = 0 # correction of the angle at position [0,a].\n",
        "  L.append(?) # append upper limit of integral for the last subarea\n",
        "  return L\n"
      ],
      "metadata": {
        "id": "vSNyUXhO8yjh"
      },
      "execution_count": null,
      "outputs": []
    },
    {
      "cell_type": "code",
      "source": [
        "# Help function: Finding subarea of ellipse\n",
        "\n",
        "def find_area(theta1,theta2,a,e,r):\n",
        "  \"\"\"\n",
        "  Args:\n",
        "    theta1, theta2: polar angles (limits of integration)\n",
        "    a: semi-major axis of elliptic orbit\n",
        "    e: eccentricity of elliptic orbit\n",
        "    r: number of digits in float approximation of area\n",
        "  Output:\n",
        "    subarea of ellipse enclosed between two polar radii\n",
        "  \"\"\"\n",
        "  var('theta')\n",
        "  # encode rhs of polar equation of ellipse\n",
        "  expr = ?\n",
        "  result = integrate(expr**2,(theta,theta1,theta2))\n",
        "  area = (0.5*result).evalf(r)\n",
        "  return area"
      ],
      "metadata": {
        "id": "MzCxyVEFSZWN"
      },
      "execution_count": null,
      "outputs": []
    },
    {
      "cell_type": "code",
      "source": [
        "#Example\n",
        "find_area(0,0.75,2.,0.7,4)"
      ],
      "metadata": {
        "colab": {
          "base_uri": "https://localhost:8080/",
          "height": 37
        },
        "id": "kc1Lcyw0aM5Y",
        "outputId": "4094baf6-ed46-4fd2-ee26-73823688c9c3"
      },
      "execution_count": null,
      "outputs": [
        {
          "output_type": "execute_result",
          "data": {
            "text/plain": [
              "0.1463"
            ],
            "text/latex": "$\\displaystyle 0.1463$"
          },
          "metadata": {},
          "execution_count": 11
        }
      ]
    },
    {
      "cell_type": "code",
      "source": [
        "# Main function: Finding areas swept during equal time intervals\n",
        "\n",
        "def main(a,e,T,n,eps,r):\n",
        "  \"\"\"\n",
        "  Args:\n",
        "    a: half-length of the major axis of ellipse\n",
        "    e: eccentricity\n",
        "    T: orbital period\n",
        "    n: number of equal time periods\n",
        "    eps: parameter for stopping criteria of Newton's method\n",
        "    r: parameter for rounding results of calculations\n",
        "  Output:\n",
        "    list of areas swept by planet during n equal time intervals\n",
        "  \"\"\"\n",
        "  # Find positions\n",
        "  global pos,b,c # making these quantities available outside this function\n",
        "  b = a*(1-e**2)**0.5\n",
        "  c = (a**2-b**2)**0.5 # x-coordinate of the right focus\n",
        "  # fill in the blank\n",
        "  Evals = [solve_kepler(n,k,e,eps) for k in range(?)] # E-values for t_k\n",
        "  # encode y-coordinates for positions\n",
        "  pos = [[a*cos(E),?] for E in Evals]\n",
        "\n",
        "  # Find areas\n",
        "  angles = find_angles(c,pos)\n",
        "  print('angles:',angles)\n",
        "  areas = [find_area(angles[k],angles[k+1],a,e,r) for k in range(n)]\n",
        "  print('areas:',areas)\n",
        "\n",
        "  #Check\n",
        "  s_approx = sum(areas)\n",
        "  # encode expression for area of ellipse\n",
        "  s = (?.evalf(r) # area of ellipse (approximated)\n",
        "  print('sum of subareas:',s_approx,';', 'ellipse area:',s)\n"
      ],
      "metadata": {
        "id": "9KSalEwW_jty"
      },
      "execution_count": null,
      "outputs": []
    },
    {
      "cell_type": "code",
      "source": [
        "# Example: Finding areas\n",
        "main(2.,0.7,5.,6,0.01,5)"
      ],
      "metadata": {
        "colab": {
          "base_uri": "https://localhost:8080/"
        },
        "id": "4GSqQOyU8s2-",
        "outputId": "d49bca28-b576-42ba-dd1c-09d4dd3d17a6"
      },
      "execution_count": null,
      "outputs": [
        {
          "output_type": "stream",
          "name": "stdout",
          "text": [
            "angles: [0, 2.45884995128535, 2.86818745473684, 3.14159265358979, 3.41499785244274, 3.82433535589423, 6.283185307179586]\n",
            "areas: [1.4958, 1.4959, 1.4954, 1.4954, 1.4959, 1.4958]\n",
            "sum of subareas: 8.9742 ; ellipse area: 8.9742\n"
          ]
        }
      ]
    },
    {
      "cell_type": "code",
      "source": [
        "# Making a required figure\n",
        "\n",
        "def plot_figure(a,e,n):\n",
        "  \"\"\"\n",
        "  Args:\n",
        "    a: major semi-axis of orbit\n",
        "    e: eccentricity\n",
        "    n: number of equal time periods\n",
        "  Output: required figure\n",
        "  \"\"\"\n",
        "  # Set up figure parameters\n",
        "  ax = plt.figure()\n",
        "  plt.rcParams['figure.figsize'] = [3,2]\n",
        "  ttl=input(\"Please enter title of the figure: \")\n",
        "  plt.title(ttl)\n",
        "\n",
        "  # Plot the orbit\n",
        "  theta = np.linspace(0, 2 * np.pi, 60)\n",
        "  x = ? # encode x-coordinate of orbit\n",
        "  y = b * np.sin(theta)\n",
        "  plt.plot(x, y)\n",
        "\n",
        "  # Plot positions\n",
        "  x,y =[[p[0] for p in pos],[p[1] for p in pos]]\n",
        "  plt.scatter(x, y,color ='blue',s = 20) # positions plot\n",
        "  # encode x- and y-coordinate of the Sun position (each is a list with one element)\n",
        "  plt.scatter([?],[?],color='orange',s = 100) # the Sun plot\n",
        "\n",
        "  # Plot lines from the Sun to positions\n",
        "  for k in range(n):\n",
        "    # encode y-coordinates for focus and kth position\n",
        "    plt.plot([c,pos[k][0]],[?,pos[k][?]],color='blue',linestyle='--')\n",
        "  plt.show()"
      ],
      "metadata": {
        "id": "P-Fm_fETjzTd"
      },
      "execution_count": null,
      "outputs": []
    },
    {
      "cell_type": "code",
      "source": [
        "plot_figure(2,0.7,6)\n",
        "\n"
      ],
      "metadata": {
        "id": "-WS2fwdXBszg",
        "colab": {
          "base_uri": "https://localhost:8080/",
          "height": 254
        },
        "outputId": "72a0a378-d23b-4da0-f92f-1c54ea171905"
      },
      "execution_count": null,
      "outputs": [
        {
          "name": "stdout",
          "output_type": "stream",
          "text": [
            "Please enter title of the figure: T=5, n=6\n"
          ]
        },
        {
          "output_type": "display_data",
          "data": {
            "text/plain": [
              "<Figure size 300x200 with 1 Axes>"
            ],
            "image/png": "[encoded data removed]"
          },
          "metadata": {}
        }
      ]
    },
    {
      "cell_type": "code",
      "source": [],
      "metadata": {
        "id": "Pe-PkNcjfHy8"
      },
      "execution_count": null,
      "outputs": []
    }
  ]
}